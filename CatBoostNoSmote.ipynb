{
 "cells": [
  {
   "cell_type": "code",
   "execution_count": 1,
   "id": "1537e9c0-9b29-47b6-8f4d-bf2c55460028",
   "metadata": {},
   "outputs": [
    {
     "name": "stdout",
     "output_type": "stream",
     "text": [
      "Collecting catboost\n",
      "  Downloading catboost-1.2.7-cp311-cp311-manylinux2014_x86_64.whl.metadata (1.2 kB)\n",
      "Collecting graphviz (from catboost)\n",
      "  Downloading graphviz-0.20.3-py3-none-any.whl.metadata (12 kB)\n",
      "Requirement already satisfied: matplotlib in /opt/conda/lib/python3.11/site-packages (from catboost) (3.8.0)\n",
      "Requirement already satisfied: numpy<2.0,>=1.16.0 in /opt/conda/lib/python3.11/site-packages (from catboost) (1.24.4)\n",
      "Requirement already satisfied: pandas>=0.24 in /opt/conda/lib/python3.11/site-packages (from catboost) (2.1.1)\n",
      "Requirement already satisfied: scipy in /opt/conda/lib/python3.11/site-packages (from catboost) (1.11.3)\n",
      "Collecting plotly (from catboost)\n",
      "  Downloading plotly-5.24.1-py3-none-any.whl.metadata (7.3 kB)\n",
      "Requirement already satisfied: six in /opt/conda/lib/python3.11/site-packages (from catboost) (1.16.0)\n",
      "Requirement already satisfied: python-dateutil>=2.8.2 in /opt/conda/lib/python3.11/site-packages (from pandas>=0.24->catboost) (2.8.2)\n",
      "Requirement already satisfied: pytz>=2020.1 in /opt/conda/lib/python3.11/site-packages (from pandas>=0.24->catboost) (2023.3.post1)\n",
      "Requirement already satisfied: tzdata>=2022.1 in /opt/conda/lib/python3.11/site-packages (from pandas>=0.24->catboost) (2023.3)\n",
      "Requirement already satisfied: contourpy>=1.0.1 in /opt/conda/lib/python3.11/site-packages (from matplotlib->catboost) (1.1.1)\n",
      "Requirement already satisfied: cycler>=0.10 in /opt/conda/lib/python3.11/site-packages (from matplotlib->catboost) (0.12.1)\n",
      "Requirement already satisfied: fonttools>=4.22.0 in /opt/conda/lib/python3.11/site-packages (from matplotlib->catboost) (4.43.1)\n",
      "Requirement already satisfied: kiwisolver>=1.0.1 in /opt/conda/lib/python3.11/site-packages (from matplotlib->catboost) (1.4.5)\n",
      "Requirement already satisfied: packaging>=20.0 in /opt/conda/lib/python3.11/site-packages (from matplotlib->catboost) (23.2)\n",
      "Requirement already satisfied: pillow>=6.2.0 in /opt/conda/lib/python3.11/site-packages (from matplotlib->catboost) (10.1.0)\n",
      "Requirement already satisfied: pyparsing>=2.3.1 in /opt/conda/lib/python3.11/site-packages (from matplotlib->catboost) (3.1.1)\n",
      "Collecting tenacity>=6.2.0 (from plotly->catboost)\n",
      "  Downloading tenacity-9.0.0-py3-none-any.whl.metadata (1.2 kB)\n",
      "Downloading catboost-1.2.7-cp311-cp311-manylinux2014_x86_64.whl (98.7 MB)\n",
      "\u001b[2K   \u001b[90m━━━━━━━━━━━━━━━━━━━━━━━━━━━━━━━━━━━━━━━━\u001b[0m \u001b[32m98.7/98.7 MB\u001b[0m \u001b[31m4.6 MB/s\u001b[0m eta \u001b[36m0:00:00\u001b[0m:00:01\u001b[0m00:01\u001b[0mm\n",
      "\u001b[?25hDownloading graphviz-0.20.3-py3-none-any.whl (47 kB)\n",
      "\u001b[2K   \u001b[90m━━━━━━━━━━━━━━━━━━━━━━━━━━━━━━━━━━━━━━━━\u001b[0m \u001b[32m47.1/47.1 kB\u001b[0m \u001b[31m144.3 kB/s\u001b[0m eta \u001b[36m0:00:00\u001b[0ma \u001b[36m0:00:01\u001b[0m\n",
      "\u001b[?25hDownloading plotly-5.24.1-py3-none-any.whl (19.1 MB)\n",
      "\u001b[2K   \u001b[90m━━━━━━━━━━━━━━━━━━━━━━━━━━━━━━━━━━━━━━━━\u001b[0m \u001b[32m19.1/19.1 MB\u001b[0m \u001b[31m23.9 MB/s\u001b[0m eta \u001b[36m0:00:00\u001b[0m:00:01\u001b[0m00:01\u001b[0m\n",
      "\u001b[?25hDownloading tenacity-9.0.0-py3-none-any.whl (28 kB)\n",
      "Installing collected packages: tenacity, graphviz, plotly, catboost\n",
      "Successfully installed catboost-1.2.7 graphviz-0.20.3 plotly-5.24.1 tenacity-9.0.0\n",
      "Note: you may need to restart the kernel to use updated packages.\n"
     ]
    }
   ],
   "source": [
    "pip install catboost"
   ]
  },
  {
   "cell_type": "code",
   "execution_count": 49,
   "id": "ad3a88fe-0bdc-4f55-8f62-9736abfc8de8",
   "metadata": {},
   "outputs": [
    {
     "name": "stdout",
     "output_type": "stream",
     "text": [
      "Requirement already satisfied: catboost in /opt/conda/lib/python3.11/site-packages (1.2.7)\n",
      "Requirement already satisfied: graphviz in /opt/conda/lib/python3.11/site-packages (from catboost) (0.20.3)\n",
      "Requirement already satisfied: matplotlib in /opt/conda/lib/python3.11/site-packages (from catboost) (3.8.0)\n",
      "Requirement already satisfied: numpy<2.0,>=1.16.0 in /opt/conda/lib/python3.11/site-packages (from catboost) (1.24.4)\n",
      "Requirement already satisfied: pandas>=0.24 in /opt/conda/lib/python3.11/site-packages (from catboost) (2.1.1)\n",
      "Requirement already satisfied: scipy in /opt/conda/lib/python3.11/site-packages (from catboost) (1.11.3)\n",
      "Requirement already satisfied: plotly in /opt/conda/lib/python3.11/site-packages (from catboost) (5.24.1)\n",
      "Requirement already satisfied: six in /opt/conda/lib/python3.11/site-packages (from catboost) (1.16.0)\n",
      "Requirement already satisfied: python-dateutil>=2.8.2 in /opt/conda/lib/python3.11/site-packages (from pandas>=0.24->catboost) (2.8.2)\n",
      "Requirement already satisfied: pytz>=2020.1 in /opt/conda/lib/python3.11/site-packages (from pandas>=0.24->catboost) (2023.3.post1)\n",
      "Requirement already satisfied: tzdata>=2022.1 in /opt/conda/lib/python3.11/site-packages (from pandas>=0.24->catboost) (2023.3)\n",
      "Requirement already satisfied: contourpy>=1.0.1 in /opt/conda/lib/python3.11/site-packages (from matplotlib->catboost) (1.1.1)\n",
      "Requirement already satisfied: cycler>=0.10 in /opt/conda/lib/python3.11/site-packages (from matplotlib->catboost) (0.12.1)\n",
      "Requirement already satisfied: fonttools>=4.22.0 in /opt/conda/lib/python3.11/site-packages (from matplotlib->catboost) (4.43.1)\n",
      "Requirement already satisfied: kiwisolver>=1.0.1 in /opt/conda/lib/python3.11/site-packages (from matplotlib->catboost) (1.4.5)\n",
      "Requirement already satisfied: packaging>=20.0 in /opt/conda/lib/python3.11/site-packages (from matplotlib->catboost) (23.2)\n",
      "Requirement already satisfied: pillow>=6.2.0 in /opt/conda/lib/python3.11/site-packages (from matplotlib->catboost) (10.1.0)\n",
      "Requirement already satisfied: pyparsing>=2.3.1 in /opt/conda/lib/python3.11/site-packages (from matplotlib->catboost) (3.1.1)\n",
      "Requirement already satisfied: tenacity>=6.2.0 in /opt/conda/lib/python3.11/site-packages (from plotly->catboost) (9.0.0)\n",
      "Note: you may need to restart the kernel to use updated packages.\n"
     ]
    }
   ],
   "source": [
    "pip install --upgrade catboost"
   ]
  },
  {
   "cell_type": "code",
   "execution_count": 4,
   "id": "4a7d2f83-0509-4c1e-a500-0bccfc94850f",
   "metadata": {},
   "outputs": [],
   "source": [
    "from catboost import CatBoostClassifier, CatBoostRegressor\n",
    "from sklearn.model_selection import train_test_split\n",
    "from sklearn.metrics import accuracy_score  # for classification\n",
    "import pandas as pd"
   ]
  },
  {
   "cell_type": "code",
   "execution_count": 5,
   "id": "096539e1-6a0c-426d-9077-f4a9ed6d71f5",
   "metadata": {},
   "outputs": [],
   "source": [
    "data_test = pd.read_csv('test.csv')"
   ]
  },
  {
   "cell_type": "code",
   "execution_count": 6,
   "id": "72c64173-6f63-4331-b884-878cbd9a2e0e",
   "metadata": {},
   "outputs": [],
   "source": [
    "data_train = pd.read_csv('train.csv')"
   ]
  },
  {
   "cell_type": "code",
   "execution_count": 7,
   "id": "02e98d72-cf14-4352-ad47-9a36fdc546d0",
   "metadata": {},
   "outputs": [],
   "source": [
    "X = data_train.copy()\n",
    "del X['loan_status']\n",
    "y = data_train.copy()\n",
    "y = y['loan_status']"
   ]
  },
  {
   "cell_type": "code",
   "execution_count": 8,
   "id": "f03fc030-c2da-4c5d-a2da-1c844677b70d",
   "metadata": {},
   "outputs": [],
   "source": [
    "X_train, X_test, y_train, y_test = train_test_split(X, y, test_size = 0.2, random_state = 42)"
   ]
  },
  {
   "cell_type": "code",
   "execution_count": 9,
   "id": "d8647440-0f98-41d4-a326-3a72a4587fdd",
   "metadata": {},
   "outputs": [
    {
     "name": "stdout",
     "output_type": "stream",
     "text": [
      "0:\tlearn: 0.5748657\ttotal: 230ms\tremaining: 3m 49s\n",
      "100:\tlearn: 0.1574936\ttotal: 8.74s\tremaining: 1m 17s\n",
      "200:\tlearn: 0.1426522\ttotal: 17.4s\tremaining: 1m 9s\n",
      "300:\tlearn: 0.1331126\ttotal: 26.3s\tremaining: 1m 1s\n",
      "400:\tlearn: 0.1255825\ttotal: 34.2s\tremaining: 51.1s\n",
      "500:\tlearn: 0.1189316\ttotal: 42.5s\tremaining: 42.4s\n",
      "600:\tlearn: 0.1138131\ttotal: 51.6s\tremaining: 34.3s\n",
      "700:\tlearn: 0.1086440\ttotal: 1m\tremaining: 25.6s\n",
      "800:\tlearn: 0.1041060\ttotal: 1m 8s\tremaining: 17.1s\n",
      "900:\tlearn: 0.1001076\ttotal: 1m 17s\tremaining: 8.54s\n",
      "999:\tlearn: 0.0959233\ttotal: 1m 26s\tremaining: 0us\n"
     ]
    },
    {
     "data": {
      "text/plain": [
       "<catboost.core.CatBoostClassifier at 0x7f525df9ddd0>"
      ]
     },
     "execution_count": 9,
     "metadata": {},
     "output_type": "execute_result"
    }
   ],
   "source": [
    "model = CatBoostClassifier(iterations = 1000, learning_rate = 0.1, depth = 6, boosting_type = 'Plain', cat_features = [3,5,6,10], verbose = 100)\n",
    "model.fit(X_train, y_train)"
   ]
  },
  {
   "cell_type": "code",
   "execution_count": 10,
   "id": "437fd159-6dab-49fa-a1c8-375831e8def7",
   "metadata": {},
   "outputs": [],
   "source": [
    "y_pred = model.predict(X_test)"
   ]
  },
  {
   "cell_type": "code",
   "execution_count": 11,
   "id": "7d5d32f4-a8c7-4e8e-8d10-bdc63759c445",
   "metadata": {},
   "outputs": [],
   "source": [
    "accuracy = accuracy_score(y_test,y_pred)"
   ]
  },
  {
   "cell_type": "code",
   "execution_count": 12,
   "id": "02402bb8-9092-423c-b70f-345b914daf9d",
   "metadata": {},
   "outputs": [
    {
     "name": "stdout",
     "output_type": "stream",
     "text": [
      "0.9533634580953193\n"
     ]
    }
   ],
   "source": [
    "print(accuracy)"
   ]
  },
  {
   "cell_type": "code",
   "execution_count": 20,
   "id": "86f2bb65-0963-44e3-ac9f-cb1d7ec49431",
   "metadata": {},
   "outputs": [
    {
     "name": "stderr",
     "output_type": "stream",
     "text": [
      "[I 2024-10-08 20:24:17,806] A new study created in memory with name: no-name-7feadd60-100d-456a-afef-5f557855c1b9\n",
      "[I 2024-10-08 20:28:28,630] Trial 0 finished with value: 0.8911594793120459 and parameters: {'iterations': 515, 'learning_rate': 0.0002425569404595565, 'depth': 3, 'l2_leaf_reg': 8.938112769532939, 'random_strength': 1.7988645906332996, 'od_type': 'Iter', 'od_wait': 54, 'bootstrap_type': 'Bernoulli'}. Best is trial 0 with value: 0.8911594793120459.\n",
      "[I 2024-10-08 20:35:50,271] Trial 1 finished with value: 0.9073619593607228 and parameters: {'iterations': 645, 'learning_rate': 0.0003896968949439135, 'depth': 6, 'l2_leaf_reg': 7.437007196894844, 'random_strength': 3.5421510382368937, 'od_type': 'IncToDec', 'od_wait': 13, 'bootstrap_type': 'Bernoulli'}. Best is trial 1 with value: 0.9073619593607228.\n",
      "[I 2024-10-08 20:55:46,829] Trial 2 finished with value: 0.9461311091980453 and parameters: {'iterations': 1361, 'learning_rate': 0.0154140208141927, 'depth': 7, 'l2_leaf_reg': 3.412212211309533, 'random_strength': 1.7649608059648103, 'od_type': 'IncToDec', 'od_wait': 84, 'bootstrap_type': 'Bernoulli'}. Best is trial 2 with value: 0.9461311091980453.\n",
      "[I 2024-10-08 21:01:14,811] Trial 3 finished with value: 0.9070030394771968 and parameters: {'iterations': 492, 'learning_rate': 0.0001782302744511369, 'depth': 6, 'l2_leaf_reg': 5.3153010959471825, 'random_strength': 4.911833842680098, 'od_type': 'IncToDec', 'od_wait': 89, 'bootstrap_type': 'Bernoulli'}. Best is trial 2 with value: 0.9461311091980453.\n",
      "[I 2024-10-08 21:16:28,538] Trial 4 finished with value: 0.9086639922550288 and parameters: {'iterations': 1230, 'learning_rate': 0.00029992654466188764, 'depth': 7, 'l2_leaf_reg': 8.10346797118544, 'random_strength': 4.976152657181881, 'od_type': 'Iter', 'od_wait': 86, 'bootstrap_type': 'Bernoulli'}. Best is trial 2 with value: 0.9461311091980453.\n",
      "[I 2024-10-08 21:49:44,800] Trial 5 finished with value: 0.9160530951208322 and parameters: {'iterations': 697, 'learning_rate': 0.0011332962892451571, 'depth': 12, 'l2_leaf_reg': 8.342615905448707, 'random_strength': 3.106931632026297, 'od_type': 'Iter', 'od_wait': 32, 'bootstrap_type': 'Bernoulli'}. Best is trial 2 with value: 0.9461311091980453.\n",
      "[I 2024-10-08 21:56:52,104] Trial 6 finished with value: 0.9355298587646523 and parameters: {'iterations': 604, 'learning_rate': 0.01979977580608066, 'depth': 6, 'l2_leaf_reg': 3.92921406469745, 'random_strength': 2.5782339319413965, 'od_type': 'IncToDec', 'od_wait': 70, 'bootstrap_type': 'Bernoulli'}. Best is trial 2 with value: 0.9461311091980453.\n",
      "[I 2024-10-08 21:59:00,767] Trial 7 finished with value: 0.9086302972134023 and parameters: {'iterations': 263, 'learning_rate': 0.006397376535872595, 'depth': 3, 'l2_leaf_reg': 5.688928620290843, 'random_strength': 2.224044635639671, 'od_type': 'Iter', 'od_wait': 90, 'bootstrap_type': 'Bernoulli'}. Best is trial 2 with value: 0.9461311091980453.\n",
      "[I 2024-10-08 23:22:00,388] Trial 8 finished with value: 0.9365948393849743 and parameters: {'iterations': 1303, 'learning_rate': 0.0768951568615185, 'depth': 11, 'l2_leaf_reg': 5.729431514128507, 'random_strength': 2.6386139001535045, 'od_type': 'IncToDec', 'od_wait': 28, 'bootstrap_type': 'Bernoulli'}. Best is trial 2 with value: 0.9461311091980453.\n",
      "[I 2024-10-08 23:29:12,063] Trial 9 finished with value: 0.9215612743228471 and parameters: {'iterations': 218, 'learning_rate': 0.005888659987531799, 'depth': 10, 'l2_leaf_reg': 3.921632749480363, 'random_strength': 1.312168617948699, 'od_type': 'Iter', 'od_wait': 56, 'bootstrap_type': 'Bernoulli'}. Best is trial 2 with value: 0.9461311091980453.\n",
      "[I 2024-10-09 00:21:53,546] Trial 10 finished with value: 0.9410508168009283 and parameters: {'iterations': 1835, 'learning_rate': 0.0696714295320362, 'depth': 9, 'l2_leaf_reg': 1.3048535428653336, 'random_strength': 3.856561668152459, 'od_type': 'IncToDec', 'od_wait': 100, 'bootstrap_type': 'Bernoulli'}. Best is trial 2 with value: 0.9461311091980453.\n",
      "[I 2024-10-09 01:16:06,842] Trial 11 finished with value: 0.9385748756070467 and parameters: {'iterations': 1878, 'learning_rate': 0.09896332225457441, 'depth': 9, 'l2_leaf_reg': 1.0992854663152274, 'random_strength': 3.5834945862926464, 'od_type': 'IncToDec', 'od_wait': 73, 'bootstrap_type': 'Bernoulli'}. Best is trial 2 with value: 0.9461311091980453.\n",
      "[I 2024-10-09 01:49:15,568] Trial 12 finished with value: 0.948765132264854 and parameters: {'iterations': 1749, 'learning_rate': 0.026723079968850528, 'depth': 8, 'l2_leaf_reg': 1.2939875012782673, 'random_strength': 4.092250391373489, 'od_type': 'IncToDec', 'od_wait': 100, 'bootstrap_type': 'Bernoulli'}. Best is trial 12 with value: 0.948765132264854.\n",
      "[I 2024-10-09 02:20:32,759] Trial 13 finished with value: 0.9488251763489803 and parameters: {'iterations': 1605, 'learning_rate': 0.017041204045975842, 'depth': 8, 'l2_leaf_reg': 2.977295178212615, 'random_strength': 1.0157517249341055, 'od_type': 'IncToDec', 'od_wait': 99, 'bootstrap_type': 'Bernoulli'}. Best is trial 13 with value: 0.9488251763489803.\n",
      "[I 2024-10-09 02:49:59,975] Trial 14 finished with value: 0.9490447909207287 and parameters: {'iterations': 1607, 'learning_rate': 0.021647673041696337, 'depth': 8, 'l2_leaf_reg': 2.3978969327733948, 'random_strength': 4.262580268634746, 'od_type': 'IncToDec', 'od_wait': 98, 'bootstrap_type': 'Bernoulli'}. Best is trial 14 with value: 0.9490447909207287.\n",
      "[I 2024-10-09 03:05:51,136] Trial 15 finished with value: 0.9231374154128076 and parameters: {'iterations': 1596, 'learning_rate': 0.0026879992335388527, 'depth': 5, 'l2_leaf_reg': 2.65249131592799, 'random_strength': 4.45261196720913, 'od_type': 'IncToDec', 'od_wait': 69, 'bootstrap_type': 'Bernoulli'}. Best is trial 14 with value: 0.9490447909207287.\n",
      "[I 2024-10-09 03:31:52,032] Trial 16 finished with value: 0.9470954745392298 and parameters: {'iterations': 976, 'learning_rate': 0.032225061132113646, 'depth': 9, 'l2_leaf_reg': 2.2838891603696925, 'random_strength': 3.157890276507138, 'od_type': 'IncToDec', 'od_wait': 56, 'bootstrap_type': 'Bernoulli'}. Best is trial 14 with value: 0.9490447909207287.\n",
      "[I 2024-10-09 04:00:57,966] Trial 17 finished with value: 0.9443846879108413 and parameters: {'iterations': 1575, 'learning_rate': 0.00930521126024345, 'depth': 8, 'l2_leaf_reg': 4.792112572457577, 'random_strength': 1.0200219454177246, 'od_type': 'IncToDec', 'od_wait': 78, 'bootstrap_type': 'Bernoulli'}. Best is trial 14 with value: 0.9490447909207287.\n",
      "[I 2024-10-09 04:18:47,770] Trial 18 finished with value: 0.9227065415595268 and parameters: {'iterations': 1062, 'learning_rate': 0.002071502184337831, 'depth': 10, 'l2_leaf_reg': 2.489568214293833, 'random_strength': 4.364294465397304, 'od_type': 'IncToDec', 'od_wait': 99, 'bootstrap_type': 'Bernoulli'}. Best is trial 14 with value: 0.9490447909207287.\n",
      "[I 2024-10-09 04:30:16,381] Trial 19 finished with value: 0.9535621060109369 and parameters: {'iterations': 1996, 'learning_rate': 0.042048886281165536, 'depth': 5, 'l2_leaf_reg': 6.804742554790993, 'random_strength': 1.9940325716056768, 'od_type': 'IncToDec', 'od_wait': 47, 'bootstrap_type': 'Bernoulli'}. Best is trial 19 with value: 0.9535621060109369.\n",
      "[I 2024-10-09 04:40:23,587] Trial 20 finished with value: 0.9533441843995794 and parameters: {'iterations': 1983, 'learning_rate': 0.046208838145808895, 'depth': 4, 'l2_leaf_reg': 6.87943413318364, 'random_strength': 2.1146942003014204, 'od_type': 'IncToDec', 'od_wait': 42, 'bootstrap_type': 'Bernoulli'}. Best is trial 19 with value: 0.9535621060109369.\n",
      "[I 2024-10-09 04:50:24,463] Trial 21 finished with value: 0.9519694267122798 and parameters: {'iterations': 1988, 'learning_rate': 0.03397978195658138, 'depth': 4, 'l2_leaf_reg': 6.714356615760346, 'random_strength': 2.1253469421605256, 'od_type': 'IncToDec', 'od_wait': 43, 'bootstrap_type': 'Bernoulli'}. Best is trial 19 with value: 0.9535621060109369.\n",
      "[I 2024-10-09 05:00:34,228] Trial 22 finished with value: 0.9535431547454657 and parameters: {'iterations': 2000, 'learning_rate': 0.044303738942899226, 'depth': 4, 'l2_leaf_reg': 6.707241641178852, 'random_strength': 2.0095809041767327, 'od_type': 'IncToDec', 'od_wait': 43, 'bootstrap_type': 'Bernoulli'}. Best is trial 19 with value: 0.9535621060109369.\n",
      "[I 2024-10-09 05:10:45,409] Trial 23 finished with value: 0.9540342738108893 and parameters: {'iterations': 1997, 'learning_rate': 0.054922503896025515, 'depth': 4, 'l2_leaf_reg': 6.692568998390104, 'random_strength': 1.6747091757143893, 'od_type': 'IncToDec', 'od_wait': 44, 'bootstrap_type': 'Bernoulli'}. Best is trial 23 with value: 0.9540342738108893.\n",
      "[I 2024-10-09 05:19:38,672] Trial 24 finished with value: 0.9536512807615434 and parameters: {'iterations': 1742, 'learning_rate': 0.05810426008796139, 'depth': 4, 'l2_leaf_reg': 9.617667129166184, 'random_strength': 1.5617854746093807, 'od_type': 'IncToDec', 'od_wait': 42, 'bootstrap_type': 'Bernoulli'}. Best is trial 23 with value: 0.9540342738108893.\n",
      "[I 2024-10-09 05:29:43,734] Trial 25 finished with value: 0.9536558983989657 and parameters: {'iterations': 1750, 'learning_rate': 0.05662265502064355, 'depth': 5, 'l2_leaf_reg': 9.850729630861892, 'random_strength': 1.5080660543567452, 'od_type': 'IncToDec', 'od_wait': 30, 'bootstrap_type': 'Bernoulli'}. Best is trial 23 with value: 0.9540342738108893.\n",
      "[I 2024-10-09 05:37:45,220] Trial 26 finished with value: 0.9411147945673644 and parameters: {'iterations': 1458, 'learning_rate': 0.010780262815721873, 'depth': 5, 'l2_leaf_reg': 9.902440980995344, 'random_strength': 1.4483219059540122, 'od_type': 'Iter', 'od_wait': 29, 'bootstrap_type': 'Bernoulli'}. Best is trial 23 with value: 0.9540342738108893.\n",
      "[I 2024-10-09 05:45:30,007] Trial 27 finished with value: 0.9524151118945456 and parameters: {'iterations': 1768, 'learning_rate': 0.05943732703083439, 'depth': 3, 'l2_leaf_reg': 9.771432071100998, 'random_strength': 1.4649205286329108, 'od_type': 'IncToDec', 'od_wait': 17, 'bootstrap_type': 'Bernoulli'}. Best is trial 23 with value: 0.9540342738108893.\n",
      "[I 2024-10-09 05:53:29,789] Trial 28 finished with value: 0.9124640701969987 and parameters: {'iterations': 1711, 'learning_rate': 0.0009918815147395227, 'depth': 4, 'l2_leaf_reg': 8.91318439253236, 'random_strength': 2.451983275619461, 'od_type': 'IncToDec', 'od_wait': 23, 'bootstrap_type': 'Bernoulli'}. Best is trial 23 with value: 0.9540342738108893.\n",
      "[I 2024-10-09 05:58:04,917] Trial 29 finished with value: 0.9215028674567328 and parameters: {'iterations': 1129, 'learning_rate': 0.004176604761845786, 'depth': 3, 'l2_leaf_reg': 9.310325003978168, 'random_strength': 1.7045334756394053, 'od_type': 'Iter', 'od_wait': 37, 'bootstrap_type': 'Bernoulli'}. Best is trial 23 with value: 0.9540342738108893.\n",
      "[I 2024-10-09 06:03:07,784] Trial 30 finished with value: 0.9529148336703755 and parameters: {'iterations': 870, 'learning_rate': 0.09695876670372851, 'depth': 5, 'l2_leaf_reg': 8.809114273903678, 'random_strength': 1.653267582404562, 'od_type': 'IncToDec', 'od_wait': 62, 'bootstrap_type': 'Bernoulli'}. Best is trial 23 with value: 0.9540342738108893.\n",
      "[I 2024-10-09 06:13:58,438] Trial 31 finished with value: 0.953870556342922 and parameters: {'iterations': 1882, 'learning_rate': 0.04812412872331605, 'depth': 5, 'l2_leaf_reg': 8.377594532341224, 'random_strength': 1.8797681205238854, 'od_type': 'IncToDec', 'od_wait': 49, 'bootstrap_type': 'Bernoulli'}. Best is trial 23 with value: 0.9540342738108893.\n",
      "[I 2024-10-09 06:26:15,544] Trial 32 finished with value: 0.9522510733408891 and parameters: {'iterations': 1851, 'learning_rate': 0.05736951899100078, 'depth': 6, 'l2_leaf_reg': 7.911945690429265, 'random_strength': 1.3010148935618786, 'od_type': 'IncToDec', 'od_wait': 52, 'bootstrap_type': 'Bernoulli'}. Best is trial 23 with value: 0.9540342738108893.\n",
      "[I 2024-10-09 06:33:24,019] Trial 33 finished with value: 0.9404157669864283 and parameters: {'iterations': 1448, 'learning_rate': 0.012744396098647573, 'depth': 4, 'l2_leaf_reg': 9.250679822231799, 'random_strength': 1.8245652316640506, 'od_type': 'IncToDec', 'od_wait': 35, 'bootstrap_type': 'Bernoulli'}. Best is trial 23 with value: 0.9540342738108893.\n",
      "[I 2024-10-09 06:44:30,194] Trial 34 finished with value: 0.9512150659789048 and parameters: {'iterations': 1720, 'learning_rate': 0.025667842832367387, 'depth': 6, 'l2_leaf_reg': 7.531304078995268, 'random_strength': 2.7847149972728262, 'od_type': 'IncToDec', 'od_wait': 23, 'bootstrap_type': 'Bernoulli'}. Best is trial 23 with value: 0.9540342738108893.\n",
      "[I 2024-10-09 06:52:22,171] Trial 35 finished with value: 0.9047470363470973 and parameters: {'iterations': 1471, 'learning_rate': 0.0001250659790905352, 'depth': 5, 'l2_leaf_reg': 8.445053909615645, 'random_strength': 2.366699574948748, 'od_type': 'IncToDec', 'od_wait': 49, 'bootstrap_type': 'Bernoulli'}. Best is trial 23 with value: 0.9540342738108893.\n",
      "[I 2024-10-09 07:07:28,472] Trial 36 finished with value: 0.9500314928396646 and parameters: {'iterations': 1896, 'learning_rate': 0.06126847418622242, 'depth': 7, 'l2_leaf_reg': 9.40373821972912, 'random_strength': 1.1998694941564407, 'od_type': 'IncToDec', 'od_wait': 60, 'bootstrap_type': 'Bernoulli'}. Best is trial 23 with value: 0.9540342738108893.\n",
      "[I 2024-10-09 07:14:44,502] Trial 37 finished with value: 0.9485128065791407 and parameters: {'iterations': 1671, 'learning_rate': 0.03405245809245786, 'depth': 3, 'l2_leaf_reg': 7.346013222664484, 'random_strength': 1.6231868229919189, 'od_type': 'Iter', 'od_wait': 11, 'bootstrap_type': 'Bernoulli'}. Best is trial 23 with value: 0.9540342738108893.\n",
      "[I 2024-10-09 07:26:38,780] Trial 38 finished with value: 0.9481146662345056 and parameters: {'iterations': 1858, 'learning_rate': 0.01530815526770896, 'depth': 6, 'l2_leaf_reg': 8.565682040290183, 'random_strength': 1.8073660663754945, 'od_type': 'IncToDec', 'od_wait': 38, 'bootstrap_type': 'Bernoulli'}. Best is trial 23 with value: 0.9540342738108893.\n",
      "[I 2024-10-09 07:33:04,036] Trial 39 finished with value: 0.9029331750611196 and parameters: {'iterations': 1339, 'learning_rate': 0.0004851778555284497, 'depth': 4, 'l2_leaf_reg': 7.89564302488067, 'random_strength': 1.4656573601562313, 'od_type': 'IncToDec', 'od_wait': 22, 'bootstrap_type': 'Bernoulli'}. Best is trial 23 with value: 0.9540342738108893.\n",
      "[I 2024-10-09 07:42:34,850] Trial 40 finished with value: 0.9381014300748713 and parameters: {'iterations': 1786, 'learning_rate': 0.008353608141418015, 'depth': 5, 'l2_leaf_reg': 6.267821388280026, 'random_strength': 2.841542893667496, 'od_type': 'Iter', 'od_wait': 31, 'bootstrap_type': 'Bernoulli'}. Best is trial 23 with value: 0.9540342738108893.\n",
      "[I 2024-10-09 07:53:41,101] Trial 41 finished with value: 0.9533421307456168 and parameters: {'iterations': 1931, 'learning_rate': 0.04110538712078773, 'depth': 5, 'l2_leaf_reg': 5.189527976269924, 'random_strength': 1.952778760083569, 'od_type': 'IncToDec', 'od_wait': 48, 'bootstrap_type': 'Bernoulli'}. Best is trial 23 with value: 0.9540342738108893.\n",
      "[I 2024-10-09 08:08:51,870] Trial 42 finished with value: 0.948335704744669 and parameters: {'iterations': 1900, 'learning_rate': 0.0776121644515643, 'depth': 7, 'l2_leaf_reg': 6.051189903105283, 'random_strength': 2.269130488373112, 'od_type': 'IncToDec', 'od_wait': 45, 'bootstrap_type': 'Bernoulli'}. Best is trial 23 with value: 0.9540342738108893.\n",
      "[I 2024-10-09 08:19:03,174] Trial 43 finished with value: 0.9526759545473436 and parameters: {'iterations': 1529, 'learning_rate': 0.053987318818031704, 'depth': 6, 'l2_leaf_reg': 7.133707849543972, 'random_strength': 1.9036889070737972, 'od_type': 'IncToDec', 'od_wait': 39, 'bootstrap_type': 'Bernoulli'}. Best is trial 23 with value: 0.9540342738108893.\n",
      "[I 2024-10-09 08:27:29,452] Trial 44 finished with value: 0.9486922579096928 and parameters: {'iterations': 1676, 'learning_rate': 0.02378972531591183, 'depth': 4, 'l2_leaf_reg': 9.999310776441098, 'random_strength': 1.5492995907653846, 'od_type': 'IncToDec', 'od_wait': 51, 'bootstrap_type': 'Bernoulli'}. Best is trial 23 with value: 0.9540342738108893.\n",
      "[I 2024-10-09 08:35:22,605] Trial 45 finished with value: 0.9544949843024355 and parameters: {'iterations': 1789, 'learning_rate': 0.09741799645008747, 'depth': 3, 'l2_leaf_reg': 9.600290295374247, 'random_strength': 1.28919476062752, 'od_type': 'IncToDec', 'od_wait': 59, 'bootstrap_type': 'Bernoulli'}. Best is trial 45 with value: 0.9544949843024355.\n",
      "[I 2024-10-09 08:43:04,236] Trial 46 finished with value: 0.9543644120770105 and parameters: {'iterations': 1747, 'learning_rate': 0.09750070085486526, 'depth': 3, 'l2_leaf_reg': 9.590649521122128, 'random_strength': 1.1732254643577902, 'od_type': 'IncToDec', 'od_wait': 64, 'bootstrap_type': 'Bernoulli'}. Best is trial 45 with value: 0.9544949843024355.\n",
      "[I 2024-10-09 08:45:02,513] Trial 47 finished with value: 0.9459084682742823 and parameters: {'iterations': 439, 'learning_rate': 0.09901641943126946, 'depth': 3, 'l2_leaf_reg': 9.13594729106263, 'random_strength': 1.1777584248295934, 'od_type': 'IncToDec', 'od_wait': 64, 'bootstrap_type': 'Bernoulli'}. Best is trial 45 with value: 0.9544949843024355.\n",
      "[I 2024-10-09 08:50:22,463] Trial 48 finished with value: 0.9515377013171822 and parameters: {'iterations': 1216, 'learning_rate': 0.07200889806824035, 'depth': 3, 'l2_leaf_reg': 8.077586190770607, 'random_strength': 1.1606955234944079, 'od_type': 'Iter', 'od_wait': 68, 'bootstrap_type': 'Bernoulli'}. Best is trial 45 with value: 0.9544949843024355.\n",
      "[I 2024-10-09 08:58:22,254] Trial 49 finished with value: 0.9539985814108615 and parameters: {'iterations': 1807, 'learning_rate': 0.08294629288832453, 'depth': 3, 'l2_leaf_reg': 8.610211746043124, 'random_strength': 1.3570489551259488, 'od_type': 'IncToDec', 'od_wait': 58, 'bootstrap_type': 'Bernoulli'}. Best is trial 45 with value: 0.9544949843024355.\n",
      "[I 2024-10-09 09:05:30,969] Trial 50 finished with value: 0.9537479055649465 and parameters: {'iterations': 1633, 'learning_rate': 0.0857722984813958, 'depth': 3, 'l2_leaf_reg': 8.855887540891857, 'random_strength': 1.3094066229141017, 'od_type': 'IncToDec', 'od_wait': 58, 'bootstrap_type': 'Bernoulli'}. Best is trial 45 with value: 0.9544949843024355.\n",
      "[I 2024-10-09 09:13:34,371] Trial 51 finished with value: 0.9539766708206816 and parameters: {'iterations': 1836, 'learning_rate': 0.08164081093916514, 'depth': 3, 'l2_leaf_reg': 8.693192261880624, 'random_strength': 1.2845547447995849, 'od_type': 'IncToDec', 'od_wait': 58, 'bootstrap_type': 'Bernoulli'}. Best is trial 45 with value: 0.9544949843024355.\n",
      "[I 2024-10-09 09:21:46,664] Trial 52 finished with value: 0.9536208212026587 and parameters: {'iterations': 1808, 'learning_rate': 0.07442650453023222, 'depth': 3, 'l2_leaf_reg': 8.404132455466636, 'random_strength': 1.0988656751524593, 'od_type': 'IncToDec', 'od_wait': 65, 'bootstrap_type': 'Bernoulli'}. Best is trial 45 with value: 0.9544949843024355.\n",
      "[I 2024-10-09 09:30:10,308] Trial 53 finished with value: 0.9503284591998362 and parameters: {'iterations': 1924, 'learning_rate': 0.03579318767098881, 'depth': 3, 'l2_leaf_reg': 8.72255481267484, 'random_strength': 1.2836737285733806, 'od_type': 'IncToDec', 'od_wait': 75, 'bootstrap_type': 'Bernoulli'}. Best is trial 45 with value: 0.9544949843024355.\n",
      "[I 2024-10-09 09:36:55,488] Trial 54 finished with value: 0.9539255629516022 and parameters: {'iterations': 1537, 'learning_rate': 0.09835610440138798, 'depth': 3, 'l2_leaf_reg': 8.043193245719625, 'random_strength': 1.3684661598992518, 'od_type': 'IncToDec', 'od_wait': 54, 'bootstrap_type': 'Bernoulli'}. Best is trial 45 with value: 0.9544949843024355.\n",
      "[I 2024-10-09 09:37:07,893] Trial 55 finished with value: 0.9271580986076261 and parameters: {'iterations': 113, 'learning_rate': 0.09998527302863718, 'depth': 3, 'l2_leaf_reg': 7.5415558815785015, 'random_strength': 1.3803482691300217, 'od_type': 'IncToDec', 'od_wait': 54, 'bootstrap_type': 'Bernoulli'}. Best is trial 45 with value: 0.9544949843024355.\n",
      "[I 2024-10-09 09:43:42,745] Trial 56 finished with value: 0.9528339852785281 and parameters: {'iterations': 1500, 'learning_rate': 0.0767213149343588, 'depth': 3, 'l2_leaf_reg': 7.844069559322441, 'random_strength': 1.1163651262956409, 'od_type': 'IncToDec', 'od_wait': 59, 'bootstrap_type': 'Bernoulli'}. Best is trial 45 with value: 0.9544949843024355.\n",
      "[W 2024-10-09 10:38:20,816] Trial 57 failed with parameters: {'iterations': 1563, 'learning_rate': 0.019457281096657727, 'depth': 12, 'l2_leaf_reg': 9.498676086583291, 'random_strength': 3.3605623603137555, 'od_type': 'IncToDec', 'od_wait': 66, 'bootstrap_type': 'Bernoulli'} because of the following error: KeyboardInterrupt().\n",
      "Traceback (most recent call last):\n",
      "  File \"/opt/conda/lib/python3.11/site-packages/optuna/study/_optimize.py\", line 197, in _run_trial\n",
      "    value_or_values = func(trial)\n",
      "                      ^^^^^^^^^^^\n",
      "  File \"/tmp/ipykernel_29303/654725314.py\", line 46, in objective\n",
      "    model.fit(X_train_fold, y_train_fold, verbose=False)\n",
      "  File \"/opt/conda/lib/python3.11/site-packages/catboost/core.py\", line 5245, in fit\n",
      "    self._fit(X, y, cat_features, text_features, embedding_features, None, graph, sample_weight, None, None, None, None, baseline, use_best_model,\n",
      "  File \"/opt/conda/lib/python3.11/site-packages/catboost/core.py\", line 2410, in _fit\n",
      "    self._train(\n",
      "  File \"/opt/conda/lib/python3.11/site-packages/catboost/core.py\", line 1790, in _train\n",
      "    self._object._train(train_pool, test_pool, params, allow_clear_pool, init_model._object if init_model else None)\n",
      "KeyboardInterrupt\n",
      "[W 2024-10-09 10:38:21,387] Trial 57 failed with value None.\n"
     ]
    },
    {
     "ename": "KeyboardInterrupt",
     "evalue": "",
     "output_type": "error",
     "traceback": [
      "\u001b[0;31m---------------------------------------------------------------------------\u001b[0m",
      "\u001b[0;31mKeyboardInterrupt\u001b[0m                         Traceback (most recent call last)",
      "Cell \u001b[0;32mIn[20], line 58\u001b[0m\n\u001b[1;32m     56\u001b[0m \u001b[38;5;66;03m# Create a study and optimize the objective function\u001b[39;00m\n\u001b[1;32m     57\u001b[0m study \u001b[38;5;241m=\u001b[39m optuna\u001b[38;5;241m.\u001b[39mcreate_study(direction\u001b[38;5;241m=\u001b[39m\u001b[38;5;124m\"\u001b[39m\u001b[38;5;124mmaximize\u001b[39m\u001b[38;5;124m\"\u001b[39m)\n\u001b[0;32m---> 58\u001b[0m \u001b[43mstudy\u001b[49m\u001b[38;5;241;43m.\u001b[39;49m\u001b[43moptimize\u001b[49m\u001b[43m(\u001b[49m\u001b[43mobjective\u001b[49m\u001b[43m,\u001b[49m\u001b[43m \u001b[49m\u001b[43mn_trials\u001b[49m\u001b[38;5;241;43m=\u001b[39;49m\u001b[38;5;241;43m100\u001b[39;49m\u001b[43m)\u001b[49m\n\u001b[1;32m     60\u001b[0m \u001b[38;5;28mprint\u001b[39m(\u001b[38;5;124m\"\u001b[39m\u001b[38;5;124mBest parameters:\u001b[39m\u001b[38;5;124m\"\u001b[39m, study\u001b[38;5;241m.\u001b[39mbest_params)\n\u001b[1;32m     61\u001b[0m \u001b[38;5;28mprint\u001b[39m(\u001b[38;5;124m\"\u001b[39m\u001b[38;5;124mBest ROC AUC:\u001b[39m\u001b[38;5;124m\"\u001b[39m, study\u001b[38;5;241m.\u001b[39mbest_value)\n",
      "File \u001b[0;32m/opt/conda/lib/python3.11/site-packages/optuna/study/study.py:475\u001b[0m, in \u001b[0;36mStudy.optimize\u001b[0;34m(self, func, n_trials, timeout, n_jobs, catch, callbacks, gc_after_trial, show_progress_bar)\u001b[0m\n\u001b[1;32m    373\u001b[0m \u001b[38;5;28;01mdef\u001b[39;00m \u001b[38;5;21moptimize\u001b[39m(\n\u001b[1;32m    374\u001b[0m     \u001b[38;5;28mself\u001b[39m,\n\u001b[1;32m    375\u001b[0m     func: ObjectiveFuncType,\n\u001b[0;32m   (...)\u001b[0m\n\u001b[1;32m    382\u001b[0m     show_progress_bar: \u001b[38;5;28mbool\u001b[39m \u001b[38;5;241m=\u001b[39m \u001b[38;5;28;01mFalse\u001b[39;00m,\n\u001b[1;32m    383\u001b[0m ) \u001b[38;5;241m-\u001b[39m\u001b[38;5;241m>\u001b[39m \u001b[38;5;28;01mNone\u001b[39;00m:\n\u001b[1;32m    384\u001b[0m \u001b[38;5;250m    \u001b[39m\u001b[38;5;124;03m\"\"\"Optimize an objective function.\u001b[39;00m\n\u001b[1;32m    385\u001b[0m \n\u001b[1;32m    386\u001b[0m \u001b[38;5;124;03m    Optimization is done by choosing a suitable set of hyperparameter values from a given\u001b[39;00m\n\u001b[0;32m   (...)\u001b[0m\n\u001b[1;32m    473\u001b[0m \u001b[38;5;124;03m            If nested invocation of this method occurs.\u001b[39;00m\n\u001b[1;32m    474\u001b[0m \u001b[38;5;124;03m    \"\"\"\u001b[39;00m\n\u001b[0;32m--> 475\u001b[0m     \u001b[43m_optimize\u001b[49m\u001b[43m(\u001b[49m\n\u001b[1;32m    476\u001b[0m \u001b[43m        \u001b[49m\u001b[43mstudy\u001b[49m\u001b[38;5;241;43m=\u001b[39;49m\u001b[38;5;28;43mself\u001b[39;49m\u001b[43m,\u001b[49m\n\u001b[1;32m    477\u001b[0m \u001b[43m        \u001b[49m\u001b[43mfunc\u001b[49m\u001b[38;5;241;43m=\u001b[39;49m\u001b[43mfunc\u001b[49m\u001b[43m,\u001b[49m\n\u001b[1;32m    478\u001b[0m \u001b[43m        \u001b[49m\u001b[43mn_trials\u001b[49m\u001b[38;5;241;43m=\u001b[39;49m\u001b[43mn_trials\u001b[49m\u001b[43m,\u001b[49m\n\u001b[1;32m    479\u001b[0m \u001b[43m        \u001b[49m\u001b[43mtimeout\u001b[49m\u001b[38;5;241;43m=\u001b[39;49m\u001b[43mtimeout\u001b[49m\u001b[43m,\u001b[49m\n\u001b[1;32m    480\u001b[0m \u001b[43m        \u001b[49m\u001b[43mn_jobs\u001b[49m\u001b[38;5;241;43m=\u001b[39;49m\u001b[43mn_jobs\u001b[49m\u001b[43m,\u001b[49m\n\u001b[1;32m    481\u001b[0m \u001b[43m        \u001b[49m\u001b[43mcatch\u001b[49m\u001b[38;5;241;43m=\u001b[39;49m\u001b[38;5;28;43mtuple\u001b[39;49m\u001b[43m(\u001b[49m\u001b[43mcatch\u001b[49m\u001b[43m)\u001b[49m\u001b[43m \u001b[49m\u001b[38;5;28;43;01mif\u001b[39;49;00m\u001b[43m \u001b[49m\u001b[38;5;28;43misinstance\u001b[39;49m\u001b[43m(\u001b[49m\u001b[43mcatch\u001b[49m\u001b[43m,\u001b[49m\u001b[43m \u001b[49m\u001b[43mIterable\u001b[49m\u001b[43m)\u001b[49m\u001b[43m \u001b[49m\u001b[38;5;28;43;01melse\u001b[39;49;00m\u001b[43m \u001b[49m\u001b[43m(\u001b[49m\u001b[43mcatch\u001b[49m\u001b[43m,\u001b[49m\u001b[43m)\u001b[49m\u001b[43m,\u001b[49m\n\u001b[1;32m    482\u001b[0m \u001b[43m        \u001b[49m\u001b[43mcallbacks\u001b[49m\u001b[38;5;241;43m=\u001b[39;49m\u001b[43mcallbacks\u001b[49m\u001b[43m,\u001b[49m\n\u001b[1;32m    483\u001b[0m \u001b[43m        \u001b[49m\u001b[43mgc_after_trial\u001b[49m\u001b[38;5;241;43m=\u001b[39;49m\u001b[43mgc_after_trial\u001b[49m\u001b[43m,\u001b[49m\n\u001b[1;32m    484\u001b[0m \u001b[43m        \u001b[49m\u001b[43mshow_progress_bar\u001b[49m\u001b[38;5;241;43m=\u001b[39;49m\u001b[43mshow_progress_bar\u001b[49m\u001b[43m,\u001b[49m\n\u001b[1;32m    485\u001b[0m \u001b[43m    \u001b[49m\u001b[43m)\u001b[49m\n",
      "File \u001b[0;32m/opt/conda/lib/python3.11/site-packages/optuna/study/_optimize.py:63\u001b[0m, in \u001b[0;36m_optimize\u001b[0;34m(study, func, n_trials, timeout, n_jobs, catch, callbacks, gc_after_trial, show_progress_bar)\u001b[0m\n\u001b[1;32m     61\u001b[0m \u001b[38;5;28;01mtry\u001b[39;00m:\n\u001b[1;32m     62\u001b[0m     \u001b[38;5;28;01mif\u001b[39;00m n_jobs \u001b[38;5;241m==\u001b[39m \u001b[38;5;241m1\u001b[39m:\n\u001b[0;32m---> 63\u001b[0m         \u001b[43m_optimize_sequential\u001b[49m\u001b[43m(\u001b[49m\n\u001b[1;32m     64\u001b[0m \u001b[43m            \u001b[49m\u001b[43mstudy\u001b[49m\u001b[43m,\u001b[49m\n\u001b[1;32m     65\u001b[0m \u001b[43m            \u001b[49m\u001b[43mfunc\u001b[49m\u001b[43m,\u001b[49m\n\u001b[1;32m     66\u001b[0m \u001b[43m            \u001b[49m\u001b[43mn_trials\u001b[49m\u001b[43m,\u001b[49m\n\u001b[1;32m     67\u001b[0m \u001b[43m            \u001b[49m\u001b[43mtimeout\u001b[49m\u001b[43m,\u001b[49m\n\u001b[1;32m     68\u001b[0m \u001b[43m            \u001b[49m\u001b[43mcatch\u001b[49m\u001b[43m,\u001b[49m\n\u001b[1;32m     69\u001b[0m \u001b[43m            \u001b[49m\u001b[43mcallbacks\u001b[49m\u001b[43m,\u001b[49m\n\u001b[1;32m     70\u001b[0m \u001b[43m            \u001b[49m\u001b[43mgc_after_trial\u001b[49m\u001b[43m,\u001b[49m\n\u001b[1;32m     71\u001b[0m \u001b[43m            \u001b[49m\u001b[43mreseed_sampler_rng\u001b[49m\u001b[38;5;241;43m=\u001b[39;49m\u001b[38;5;28;43;01mFalse\u001b[39;49;00m\u001b[43m,\u001b[49m\n\u001b[1;32m     72\u001b[0m \u001b[43m            \u001b[49m\u001b[43mtime_start\u001b[49m\u001b[38;5;241;43m=\u001b[39;49m\u001b[38;5;28;43;01mNone\u001b[39;49;00m\u001b[43m,\u001b[49m\n\u001b[1;32m     73\u001b[0m \u001b[43m            \u001b[49m\u001b[43mprogress_bar\u001b[49m\u001b[38;5;241;43m=\u001b[39;49m\u001b[43mprogress_bar\u001b[49m\u001b[43m,\u001b[49m\n\u001b[1;32m     74\u001b[0m \u001b[43m        \u001b[49m\u001b[43m)\u001b[49m\n\u001b[1;32m     75\u001b[0m     \u001b[38;5;28;01melse\u001b[39;00m:\n\u001b[1;32m     76\u001b[0m         \u001b[38;5;28;01mif\u001b[39;00m n_jobs \u001b[38;5;241m==\u001b[39m \u001b[38;5;241m-\u001b[39m\u001b[38;5;241m1\u001b[39m:\n",
      "File \u001b[0;32m/opt/conda/lib/python3.11/site-packages/optuna/study/_optimize.py:160\u001b[0m, in \u001b[0;36m_optimize_sequential\u001b[0;34m(study, func, n_trials, timeout, catch, callbacks, gc_after_trial, reseed_sampler_rng, time_start, progress_bar)\u001b[0m\n\u001b[1;32m    157\u001b[0m         \u001b[38;5;28;01mbreak\u001b[39;00m\n\u001b[1;32m    159\u001b[0m \u001b[38;5;28;01mtry\u001b[39;00m:\n\u001b[0;32m--> 160\u001b[0m     frozen_trial \u001b[38;5;241m=\u001b[39m \u001b[43m_run_trial\u001b[49m\u001b[43m(\u001b[49m\u001b[43mstudy\u001b[49m\u001b[43m,\u001b[49m\u001b[43m \u001b[49m\u001b[43mfunc\u001b[49m\u001b[43m,\u001b[49m\u001b[43m \u001b[49m\u001b[43mcatch\u001b[49m\u001b[43m)\u001b[49m\n\u001b[1;32m    161\u001b[0m \u001b[38;5;28;01mfinally\u001b[39;00m:\n\u001b[1;32m    162\u001b[0m     \u001b[38;5;66;03m# The following line mitigates memory problems that can be occurred in some\u001b[39;00m\n\u001b[1;32m    163\u001b[0m     \u001b[38;5;66;03m# environments (e.g., services that use computing containers such as GitHub Actions).\u001b[39;00m\n\u001b[1;32m    164\u001b[0m     \u001b[38;5;66;03m# Please refer to the following PR for further details:\u001b[39;00m\n\u001b[1;32m    165\u001b[0m     \u001b[38;5;66;03m# https://github.com/optuna/optuna/pull/325.\u001b[39;00m\n\u001b[1;32m    166\u001b[0m     \u001b[38;5;28;01mif\u001b[39;00m gc_after_trial:\n",
      "File \u001b[0;32m/opt/conda/lib/python3.11/site-packages/optuna/study/_optimize.py:248\u001b[0m, in \u001b[0;36m_run_trial\u001b[0;34m(study, func, catch)\u001b[0m\n\u001b[1;32m    241\u001b[0m         \u001b[38;5;28;01massert\u001b[39;00m \u001b[38;5;28;01mFalse\u001b[39;00m, \u001b[38;5;124m\"\u001b[39m\u001b[38;5;124mShould not reach.\u001b[39m\u001b[38;5;124m\"\u001b[39m\n\u001b[1;32m    243\u001b[0m \u001b[38;5;28;01mif\u001b[39;00m (\n\u001b[1;32m    244\u001b[0m     frozen_trial\u001b[38;5;241m.\u001b[39mstate \u001b[38;5;241m==\u001b[39m TrialState\u001b[38;5;241m.\u001b[39mFAIL\n\u001b[1;32m    245\u001b[0m     \u001b[38;5;129;01mand\u001b[39;00m func_err \u001b[38;5;129;01mis\u001b[39;00m \u001b[38;5;129;01mnot\u001b[39;00m \u001b[38;5;28;01mNone\u001b[39;00m\n\u001b[1;32m    246\u001b[0m     \u001b[38;5;129;01mand\u001b[39;00m \u001b[38;5;129;01mnot\u001b[39;00m \u001b[38;5;28misinstance\u001b[39m(func_err, catch)\n\u001b[1;32m    247\u001b[0m ):\n\u001b[0;32m--> 248\u001b[0m     \u001b[38;5;28;01mraise\u001b[39;00m func_err\n\u001b[1;32m    249\u001b[0m \u001b[38;5;28;01mreturn\u001b[39;00m frozen_trial\n",
      "File \u001b[0;32m/opt/conda/lib/python3.11/site-packages/optuna/study/_optimize.py:197\u001b[0m, in \u001b[0;36m_run_trial\u001b[0;34m(study, func, catch)\u001b[0m\n\u001b[1;32m    195\u001b[0m \u001b[38;5;28;01mwith\u001b[39;00m get_heartbeat_thread(trial\u001b[38;5;241m.\u001b[39m_trial_id, study\u001b[38;5;241m.\u001b[39m_storage):\n\u001b[1;32m    196\u001b[0m     \u001b[38;5;28;01mtry\u001b[39;00m:\n\u001b[0;32m--> 197\u001b[0m         value_or_values \u001b[38;5;241m=\u001b[39m \u001b[43mfunc\u001b[49m\u001b[43m(\u001b[49m\u001b[43mtrial\u001b[49m\u001b[43m)\u001b[49m\n\u001b[1;32m    198\u001b[0m     \u001b[38;5;28;01mexcept\u001b[39;00m exceptions\u001b[38;5;241m.\u001b[39mTrialPruned \u001b[38;5;28;01mas\u001b[39;00m e:\n\u001b[1;32m    199\u001b[0m         \u001b[38;5;66;03m# TODO(mamu): Handle multi-objective cases.\u001b[39;00m\n\u001b[1;32m    200\u001b[0m         state \u001b[38;5;241m=\u001b[39m TrialState\u001b[38;5;241m.\u001b[39mPRUNED\n",
      "Cell \u001b[0;32mIn[20], line 46\u001b[0m, in \u001b[0;36mobjective\u001b[0;34m(trial)\u001b[0m\n\u001b[1;32m     43\u001b[0m model \u001b[38;5;241m=\u001b[39m CatBoostClassifier(cat_features\u001b[38;5;241m=\u001b[39mcat_features_indices, \u001b[38;5;241m*\u001b[39m\u001b[38;5;241m*\u001b[39mparams)\n\u001b[1;32m     45\u001b[0m \u001b[38;5;66;03m# Fit the model\u001b[39;00m\n\u001b[0;32m---> 46\u001b[0m \u001b[43mmodel\u001b[49m\u001b[38;5;241;43m.\u001b[39;49m\u001b[43mfit\u001b[49m\u001b[43m(\u001b[49m\u001b[43mX_train_fold\u001b[49m\u001b[43m,\u001b[49m\u001b[43m \u001b[49m\u001b[43my_train_fold\u001b[49m\u001b[43m,\u001b[49m\u001b[43m \u001b[49m\u001b[43mverbose\u001b[49m\u001b[38;5;241;43m=\u001b[39;49m\u001b[38;5;28;43;01mFalse\u001b[39;49;00m\u001b[43m)\u001b[49m\n\u001b[1;32m     48\u001b[0m \u001b[38;5;66;03m# Predict and calculate ROC AUC score\u001b[39;00m\n\u001b[1;32m     49\u001b[0m y_pred \u001b[38;5;241m=\u001b[39m model\u001b[38;5;241m.\u001b[39mpredict_proba(X_val)[:, \u001b[38;5;241m1\u001b[39m]  \u001b[38;5;66;03m# Get probabilities for the positive class\u001b[39;00m\n",
      "File \u001b[0;32m/opt/conda/lib/python3.11/site-packages/catboost/core.py:5245\u001b[0m, in \u001b[0;36mCatBoostClassifier.fit\u001b[0;34m(self, X, y, cat_features, text_features, embedding_features, graph, sample_weight, baseline, use_best_model, eval_set, verbose, logging_level, plot, plot_file, column_description, verbose_eval, metric_period, silent, early_stopping_rounds, save_snapshot, snapshot_file, snapshot_interval, init_model, callbacks, log_cout, log_cerr)\u001b[0m\n\u001b[1;32m   5242\u001b[0m \u001b[38;5;28;01mif\u001b[39;00m \u001b[38;5;124m'\u001b[39m\u001b[38;5;124mloss_function\u001b[39m\u001b[38;5;124m'\u001b[39m \u001b[38;5;129;01min\u001b[39;00m params:\n\u001b[1;32m   5243\u001b[0m     CatBoostClassifier\u001b[38;5;241m.\u001b[39m_check_is_compatible_loss(params[\u001b[38;5;124m'\u001b[39m\u001b[38;5;124mloss_function\u001b[39m\u001b[38;5;124m'\u001b[39m])\n\u001b[0;32m-> 5245\u001b[0m \u001b[38;5;28;43mself\u001b[39;49m\u001b[38;5;241;43m.\u001b[39;49m\u001b[43m_fit\u001b[49m\u001b[43m(\u001b[49m\u001b[43mX\u001b[49m\u001b[43m,\u001b[49m\u001b[43m \u001b[49m\u001b[43my\u001b[49m\u001b[43m,\u001b[49m\u001b[43m \u001b[49m\u001b[43mcat_features\u001b[49m\u001b[43m,\u001b[49m\u001b[43m \u001b[49m\u001b[43mtext_features\u001b[49m\u001b[43m,\u001b[49m\u001b[43m \u001b[49m\u001b[43membedding_features\u001b[49m\u001b[43m,\u001b[49m\u001b[43m \u001b[49m\u001b[38;5;28;43;01mNone\u001b[39;49;00m\u001b[43m,\u001b[49m\u001b[43m \u001b[49m\u001b[43mgraph\u001b[49m\u001b[43m,\u001b[49m\u001b[43m \u001b[49m\u001b[43msample_weight\u001b[49m\u001b[43m,\u001b[49m\u001b[43m \u001b[49m\u001b[38;5;28;43;01mNone\u001b[39;49;00m\u001b[43m,\u001b[49m\u001b[43m \u001b[49m\u001b[38;5;28;43;01mNone\u001b[39;49;00m\u001b[43m,\u001b[49m\u001b[43m \u001b[49m\u001b[38;5;28;43;01mNone\u001b[39;49;00m\u001b[43m,\u001b[49m\u001b[43m \u001b[49m\u001b[38;5;28;43;01mNone\u001b[39;49;00m\u001b[43m,\u001b[49m\u001b[43m \u001b[49m\u001b[43mbaseline\u001b[49m\u001b[43m,\u001b[49m\u001b[43m \u001b[49m\u001b[43muse_best_model\u001b[49m\u001b[43m,\u001b[49m\n\u001b[1;32m   5246\u001b[0m \u001b[43m          \u001b[49m\u001b[43meval_set\u001b[49m\u001b[43m,\u001b[49m\u001b[43m \u001b[49m\u001b[43mverbose\u001b[49m\u001b[43m,\u001b[49m\u001b[43m \u001b[49m\u001b[43mlogging_level\u001b[49m\u001b[43m,\u001b[49m\u001b[43m \u001b[49m\u001b[43mplot\u001b[49m\u001b[43m,\u001b[49m\u001b[43m \u001b[49m\u001b[43mplot_file\u001b[49m\u001b[43m,\u001b[49m\u001b[43m \u001b[49m\u001b[43mcolumn_description\u001b[49m\u001b[43m,\u001b[49m\u001b[43m \u001b[49m\u001b[43mverbose_eval\u001b[49m\u001b[43m,\u001b[49m\u001b[43m \u001b[49m\u001b[43mmetric_period\u001b[49m\u001b[43m,\u001b[49m\n\u001b[1;32m   5247\u001b[0m \u001b[43m          \u001b[49m\u001b[43msilent\u001b[49m\u001b[43m,\u001b[49m\u001b[43m \u001b[49m\u001b[43mearly_stopping_rounds\u001b[49m\u001b[43m,\u001b[49m\u001b[43m \u001b[49m\u001b[43msave_snapshot\u001b[49m\u001b[43m,\u001b[49m\u001b[43m \u001b[49m\u001b[43msnapshot_file\u001b[49m\u001b[43m,\u001b[49m\u001b[43m \u001b[49m\u001b[43msnapshot_interval\u001b[49m\u001b[43m,\u001b[49m\u001b[43m \u001b[49m\u001b[43minit_model\u001b[49m\u001b[43m,\u001b[49m\u001b[43m \u001b[49m\u001b[43mcallbacks\u001b[49m\u001b[43m,\u001b[49m\u001b[43m \u001b[49m\u001b[43mlog_cout\u001b[49m\u001b[43m,\u001b[49m\u001b[43m \u001b[49m\u001b[43mlog_cerr\u001b[49m\u001b[43m)\u001b[49m\n\u001b[1;32m   5248\u001b[0m \u001b[38;5;28;01mreturn\u001b[39;00m \u001b[38;5;28mself\u001b[39m\n",
      "File \u001b[0;32m/opt/conda/lib/python3.11/site-packages/catboost/core.py:2410\u001b[0m, in \u001b[0;36mCatBoost._fit\u001b[0;34m(self, X, y, cat_features, text_features, embedding_features, pairs, graph, sample_weight, group_id, group_weight, subgroup_id, pairs_weight, baseline, use_best_model, eval_set, verbose, logging_level, plot, plot_file, column_description, verbose_eval, metric_period, silent, early_stopping_rounds, save_snapshot, snapshot_file, snapshot_interval, init_model, callbacks, log_cout, log_cerr)\u001b[0m\n\u001b[1;32m   2407\u001b[0m allow_clear_pool \u001b[38;5;241m=\u001b[39m train_params[\u001b[38;5;124m\"\u001b[39m\u001b[38;5;124mallow_clear_pool\u001b[39m\u001b[38;5;124m\"\u001b[39m]\n\u001b[1;32m   2409\u001b[0m \u001b[38;5;28;01mwith\u001b[39;00m plot_wrapper(plot, plot_file, \u001b[38;5;124m'\u001b[39m\u001b[38;5;124mTraining plots\u001b[39m\u001b[38;5;124m'\u001b[39m, [_get_train_dir(\u001b[38;5;28mself\u001b[39m\u001b[38;5;241m.\u001b[39mget_params())]):\n\u001b[0;32m-> 2410\u001b[0m     \u001b[38;5;28;43mself\u001b[39;49m\u001b[38;5;241;43m.\u001b[39;49m\u001b[43m_train\u001b[49m\u001b[43m(\u001b[49m\n\u001b[1;32m   2411\u001b[0m \u001b[43m        \u001b[49m\u001b[43mtrain_pool\u001b[49m\u001b[43m,\u001b[49m\n\u001b[1;32m   2412\u001b[0m \u001b[43m        \u001b[49m\u001b[43mtrain_params\u001b[49m\u001b[43m[\u001b[49m\u001b[38;5;124;43m\"\u001b[39;49m\u001b[38;5;124;43meval_sets\u001b[39;49m\u001b[38;5;124;43m\"\u001b[39;49m\u001b[43m]\u001b[49m\u001b[43m,\u001b[49m\n\u001b[1;32m   2413\u001b[0m \u001b[43m        \u001b[49m\u001b[43mparams\u001b[49m\u001b[43m,\u001b[49m\n\u001b[1;32m   2414\u001b[0m \u001b[43m        \u001b[49m\u001b[43mallow_clear_pool\u001b[49m\u001b[43m,\u001b[49m\n\u001b[1;32m   2415\u001b[0m \u001b[43m        \u001b[49m\u001b[43mtrain_params\u001b[49m\u001b[43m[\u001b[49m\u001b[38;5;124;43m\"\u001b[39;49m\u001b[38;5;124;43minit_model\u001b[39;49m\u001b[38;5;124;43m\"\u001b[39;49m\u001b[43m]\u001b[49m\n\u001b[1;32m   2416\u001b[0m \u001b[43m    \u001b[49m\u001b[43m)\u001b[49m\n\u001b[1;32m   2418\u001b[0m \u001b[38;5;66;03m# Have property feature_importance possibly set\u001b[39;00m\n\u001b[1;32m   2419\u001b[0m loss \u001b[38;5;241m=\u001b[39m \u001b[38;5;28mself\u001b[39m\u001b[38;5;241m.\u001b[39m_object\u001b[38;5;241m.\u001b[39m_get_loss_function_name()\n",
      "File \u001b[0;32m/opt/conda/lib/python3.11/site-packages/catboost/core.py:1790\u001b[0m, in \u001b[0;36m_CatBoostBase._train\u001b[0;34m(self, train_pool, test_pool, params, allow_clear_pool, init_model)\u001b[0m\n\u001b[1;32m   1789\u001b[0m \u001b[38;5;28;01mdef\u001b[39;00m \u001b[38;5;21m_train\u001b[39m(\u001b[38;5;28mself\u001b[39m, train_pool, test_pool, params, allow_clear_pool, init_model):\n\u001b[0;32m-> 1790\u001b[0m     \u001b[38;5;28;43mself\u001b[39;49m\u001b[38;5;241;43m.\u001b[39;49m\u001b[43m_object\u001b[49m\u001b[38;5;241;43m.\u001b[39;49m\u001b[43m_train\u001b[49m\u001b[43m(\u001b[49m\u001b[43mtrain_pool\u001b[49m\u001b[43m,\u001b[49m\u001b[43m \u001b[49m\u001b[43mtest_pool\u001b[49m\u001b[43m,\u001b[49m\u001b[43m \u001b[49m\u001b[43mparams\u001b[49m\u001b[43m,\u001b[49m\u001b[43m \u001b[49m\u001b[43mallow_clear_pool\u001b[49m\u001b[43m,\u001b[49m\u001b[43m \u001b[49m\u001b[43minit_model\u001b[49m\u001b[38;5;241;43m.\u001b[39;49m\u001b[43m_object\u001b[49m\u001b[43m \u001b[49m\u001b[38;5;28;43;01mif\u001b[39;49;00m\u001b[43m \u001b[49m\u001b[43minit_model\u001b[49m\u001b[43m \u001b[49m\u001b[38;5;28;43;01melse\u001b[39;49;00m\u001b[43m \u001b[49m\u001b[38;5;28;43;01mNone\u001b[39;49;00m\u001b[43m)\u001b[49m\n\u001b[1;32m   1791\u001b[0m     \u001b[38;5;28mself\u001b[39m\u001b[38;5;241m.\u001b[39m_set_trained_model_attributes()\n",
      "\u001b[0;31mKeyboardInterrupt\u001b[0m: "
     ]
    }
   ],
   "source": [
    "import optuna\n",
    "import numpy as np\n",
    "from catboost import CatBoostClassifier\n",
    "from sklearn.model_selection import StratifiedKFold\n",
    "from sklearn.metrics import roc_auc_score\n",
    "from sklearn.model_selection import train_test_split\n",
    "\n",
    "# Assuming X and y are defined and represent your features and target\n",
    "X_train, X_test, y_train, y_test = train_test_split(X, y, test_size=0.2, random_state=42)\n",
    "\n",
    "# Identify categorical features by column index or names\n",
    "cat_features_indices = [3,5,6,10]  # Example indices of categorical features; update as needed\n",
    "# OR\n",
    "# cat_features = ['feature_name1', 'feature_name2']  # List of categorical feature names\n",
    "\n",
    "# Define the Optuna objective function\n",
    "def objective(trial):\n",
    "    # Hyperparameters to tune\n",
    "    params = {\n",
    "        \"iterations\": trial.suggest_int(\"iterations\", 100, 2000),  # Increased upper limit\n",
    "        \"learning_rate\": trial.suggest_float(\"learning_rate\", 1e-4, 0.1, log=True),  # Lower bound added\n",
    "        \"depth\": trial.suggest_int(\"depth\", 3, 12),  # Wider range for depth\n",
    "        \"l2_leaf_reg\": trial.suggest_float(\"l2_leaf_reg\", 1, 10),  # Increased upper limit\n",
    "        \"random_strength\": trial.suggest_float(\"random_strength\", 1, 5),  # Increased upper limit\n",
    "        \"od_type\": trial.suggest_categorical(\"od_type\", [\"IncToDec\", \"Iter\"]),\n",
    "        \"od_wait\": trial.suggest_int(\"od_wait\", 10, 100),  # Increased upper limit\n",
    "        \"bootstrap_type\": trial.suggest_categorical(\"bootstrap_type\", [\"Bernoulli\"]),\n",
    "        \"task_type\": 'CPU',\n",
    "        \"verbose\": False\n",
    "    }\n",
    "\n",
    "    # Initialize StratifiedKFold\n",
    "    skf = StratifiedKFold(n_splits=10, shuffle=True, random_state=42)\n",
    "    roc_auc_scores = []\n",
    "\n",
    "    # Perform k-fold cross-validation\n",
    "    for train_index, val_index in skf.split(X_train, y_train):\n",
    "        X_train_fold = X_train.iloc[train_index]  # Use iloc for indexing\n",
    "        X_val = X_train.iloc[val_index]  # Use iloc for indexing\n",
    "        y_train_fold = y_train.iloc[train_index]  # Use iloc for indexing\n",
    "        y_val = y_train.iloc[val_index]  # Use iloc for indexing\n",
    "\n",
    "        model = CatBoostClassifier(cat_features=cat_features_indices, **params)\n",
    "\n",
    "        # Fit the model\n",
    "        model.fit(X_train_fold, y_train_fold, verbose=False)\n",
    "\n",
    "        # Predict and calculate ROC AUC score\n",
    "        y_pred = model.predict_proba(X_val)[:, 1]  # Get probabilities for the positive class\n",
    "        roc = roc_auc_score(y_val, y_pred)  # Calculate ROC AUC score\n",
    "        roc_auc_scores.append(roc)\n",
    "\n",
    "    # Return the mean ROC AUC score across folds\n",
    "    return np.mean(roc_auc_scores)\n",
    "\n",
    "# Create a study and optimize the objective function\n",
    "study = optuna.create_study(direction=\"maximize\")\n",
    "study.optimize(objective, n_trials=60)\n",
    "\n",
    "print(\"Best parameters:\", study.best_params)\n",
    "print(\"Best ROC AUC:\", study.best_value)\n",
    "\n",
    "# Fit the final model with the best parameters\n",
    "best_params = study.best_params\n",
    "best_params['verbose'] = 200  # Adjust verbosity\n",
    "\n",
    "# Fit the model with the best parameters\n",
    "model = CatBoostClassifier(cat_features=cat_features_indices, **best_params)\n",
    "model.fit(X_train, y_train)  # Fit with the best parameters"
   ]
  },
  {
   "cell_type": "code",
   "execution_count": 22,
   "id": "66f25b92-9328-40af-865f-f186ab301211",
   "metadata": {},
   "outputs": [
    {
     "name": "stderr",
     "output_type": "stream",
     "text": [
      "[I 2024-10-09 10:42:48,347] A new study created in memory with name: no-name-42782609-4a5c-46e5-9097-6f8f6d5cede5\n",
      "[I 2024-10-09 10:49:16,864] Trial 0 finished with value: 0.9474517399662628 and parameters: {'iterations': 1691, 'learning_rate': 0.06265899533809129, 'depth': 2, 'l2_leaf_reg': 9.929668205682312, 'random_strength': 1.2831222181750548, 'od_type': 'IncToDec', 'od_wait': 80, 'bootstrap_type': 'Bernoulli'}. Best is trial 0 with value: 0.9474517399662628.\n",
      "[I 2024-10-09 10:54:36,432] Trial 1 finished with value: 0.9272798567745774 and parameters: {'iterations': 1474, 'learning_rate': 0.011072398816736283, 'depth': 2, 'l2_leaf_reg': 9.321360285845373, 'random_strength': 1.282154686529962, 'od_type': 'IncToDec', 'od_wait': 64, 'bootstrap_type': 'Bernoulli'}. Best is trial 0 with value: 0.9474517399662628.\n",
      "[I 2024-10-09 11:00:26,098] Trial 2 finished with value: 0.9512774349701398 and parameters: {'iterations': 1327, 'learning_rate': 0.06119826651686255, 'depth': 3, 'l2_leaf_reg': 7.974689877669086, 'random_strength': 1.3513445319015975, 'od_type': 'IncToDec', 'od_wait': 52, 'bootstrap_type': 'Bernoulli'}. Best is trial 2 with value: 0.9512774349701398.\n",
      "[I 2024-10-09 11:08:48,361] Trial 3 finished with value: 0.9480672761589602 and parameters: {'iterations': 1947, 'learning_rate': 0.02675981288879559, 'depth': 3, 'l2_leaf_reg': 7.0084170970569, 'random_strength': 1.0829050109896263, 'od_type': 'IncToDec', 'od_wait': 73, 'bootstrap_type': 'Bernoulli'}. Best is trial 2 with value: 0.9512774349701398.\n",
      "[I 2024-10-09 11:13:14,582] Trial 4 finished with value: 0.938301960064113 and parameters: {'iterations': 1188, 'learning_rate': 0.03546214828588604, 'depth': 2, 'l2_leaf_reg': 8.248474347584628, 'random_strength': 1.2396983541864135, 'od_type': 'IncToDec', 'od_wait': 77, 'bootstrap_type': 'Bernoulli'}. Best is trial 2 with value: 0.9512774349701398.\n",
      "[I 2024-10-09 11:18:19,806] Trial 5 finished with value: 0.9299516058286731 and parameters: {'iterations': 1388, 'learning_rate': 0.015228430075805438, 'depth': 2, 'l2_leaf_reg': 8.993504384464968, 'random_strength': 1.0461542193562623, 'od_type': 'IncToDec', 'od_wait': 53, 'bootstrap_type': 'Bernoulli'}. Best is trial 2 with value: 0.9512774349701398.\n",
      "[I 2024-10-09 11:25:46,463] Trial 6 finished with value: 0.9530633225989517 and parameters: {'iterations': 1975, 'learning_rate': 0.14951685398838674, 'depth': 2, 'l2_leaf_reg': 8.605072951989735, 'random_strength': 1.3224830423733656, 'od_type': 'IncToDec', 'od_wait': 67, 'bootstrap_type': 'Bernoulli'}. Best is trial 6 with value: 0.9530633225989517.\n",
      "[W 2024-10-09 11:30:43,281] Trial 7 failed with parameters: {'iterations': 1366, 'learning_rate': 0.03093220798474595, 'depth': 2, 'l2_leaf_reg': 8.320888196250337, 'random_strength': 1.151609522789294, 'od_type': 'IncToDec', 'od_wait': 55, 'bootstrap_type': 'Bernoulli'} because of the following error: KeyboardInterrupt('').\n",
      "Traceback (most recent call last):\n",
      "  File \"/opt/conda/lib/python3.11/site-packages/optuna/study/_optimize.py\", line 197, in _run_trial\n",
      "    value_or_values = func(trial)\n",
      "                      ^^^^^^^^^^^\n",
      "  File \"/tmp/ipykernel_29303/3606389473.py\", line 46, in objective\n",
      "    model.fit(X_train_fold, y_train_fold, verbose=False)\n",
      "  File \"/opt/conda/lib/python3.11/site-packages/catboost/core.py\", line 5245, in fit\n",
      "    self._fit(X, y, cat_features, text_features, embedding_features, None, graph, sample_weight, None, None, None, None, baseline, use_best_model,\n",
      "  File \"/opt/conda/lib/python3.11/site-packages/catboost/core.py\", line 2410, in _fit\n",
      "    self._train(\n",
      "  File \"/opt/conda/lib/python3.11/site-packages/catboost/core.py\", line 1790, in _train\n",
      "    self._object._train(train_pool, test_pool, params, allow_clear_pool, init_model._object if init_model else None)\n",
      "  File \"_catboost.pyx\", line 5017, in _catboost._CatBoost._train\n",
      "  File \"_catboost.pyx\", line 5066, in _catboost._CatBoost._train\n",
      "KeyboardInterrupt\n",
      "[W 2024-10-09 11:30:43,336] Trial 7 failed with value None.\n"
     ]
    },
    {
     "ename": "KeyboardInterrupt",
     "evalue": "",
     "output_type": "error",
     "traceback": [
      "\u001b[0;31m---------------------------------------------------------------------------\u001b[0m",
      "\u001b[0;31mKeyboardInterrupt\u001b[0m                         Traceback (most recent call last)",
      "Cell \u001b[0;32mIn[22], line 58\u001b[0m\n\u001b[1;32m     56\u001b[0m \u001b[38;5;66;03m# Create a study and optimize the objective function\u001b[39;00m\n\u001b[1;32m     57\u001b[0m study \u001b[38;5;241m=\u001b[39m optuna\u001b[38;5;241m.\u001b[39mcreate_study(direction\u001b[38;5;241m=\u001b[39m\u001b[38;5;124m\"\u001b[39m\u001b[38;5;124mmaximize\u001b[39m\u001b[38;5;124m\"\u001b[39m)\n\u001b[0;32m---> 58\u001b[0m \u001b[43mstudy\u001b[49m\u001b[38;5;241;43m.\u001b[39;49m\u001b[43moptimize\u001b[49m\u001b[43m(\u001b[49m\u001b[43mobjective\u001b[49m\u001b[43m,\u001b[49m\u001b[43m \u001b[49m\u001b[43mn_trials\u001b[49m\u001b[38;5;241;43m=\u001b[39;49m\u001b[38;5;241;43m100\u001b[39;49m\u001b[43m)\u001b[49m\n\u001b[1;32m     60\u001b[0m \u001b[38;5;28mprint\u001b[39m(\u001b[38;5;124m\"\u001b[39m\u001b[38;5;124mBest parameters:\u001b[39m\u001b[38;5;124m\"\u001b[39m, study\u001b[38;5;241m.\u001b[39mbest_params)\n\u001b[1;32m     61\u001b[0m \u001b[38;5;28mprint\u001b[39m(\u001b[38;5;124m\"\u001b[39m\u001b[38;5;124mBest ROC AUC:\u001b[39m\u001b[38;5;124m\"\u001b[39m, study\u001b[38;5;241m.\u001b[39mbest_value)\n",
      "File \u001b[0;32m/opt/conda/lib/python3.11/site-packages/optuna/study/study.py:475\u001b[0m, in \u001b[0;36mStudy.optimize\u001b[0;34m(self, func, n_trials, timeout, n_jobs, catch, callbacks, gc_after_trial, show_progress_bar)\u001b[0m\n\u001b[1;32m    373\u001b[0m \u001b[38;5;28;01mdef\u001b[39;00m \u001b[38;5;21moptimize\u001b[39m(\n\u001b[1;32m    374\u001b[0m     \u001b[38;5;28mself\u001b[39m,\n\u001b[1;32m    375\u001b[0m     func: ObjectiveFuncType,\n\u001b[0;32m   (...)\u001b[0m\n\u001b[1;32m    382\u001b[0m     show_progress_bar: \u001b[38;5;28mbool\u001b[39m \u001b[38;5;241m=\u001b[39m \u001b[38;5;28;01mFalse\u001b[39;00m,\n\u001b[1;32m    383\u001b[0m ) \u001b[38;5;241m-\u001b[39m\u001b[38;5;241m>\u001b[39m \u001b[38;5;28;01mNone\u001b[39;00m:\n\u001b[1;32m    384\u001b[0m \u001b[38;5;250m    \u001b[39m\u001b[38;5;124;03m\"\"\"Optimize an objective function.\u001b[39;00m\n\u001b[1;32m    385\u001b[0m \n\u001b[1;32m    386\u001b[0m \u001b[38;5;124;03m    Optimization is done by choosing a suitable set of hyperparameter values from a given\u001b[39;00m\n\u001b[0;32m   (...)\u001b[0m\n\u001b[1;32m    473\u001b[0m \u001b[38;5;124;03m            If nested invocation of this method occurs.\u001b[39;00m\n\u001b[1;32m    474\u001b[0m \u001b[38;5;124;03m    \"\"\"\u001b[39;00m\n\u001b[0;32m--> 475\u001b[0m     \u001b[43m_optimize\u001b[49m\u001b[43m(\u001b[49m\n\u001b[1;32m    476\u001b[0m \u001b[43m        \u001b[49m\u001b[43mstudy\u001b[49m\u001b[38;5;241;43m=\u001b[39;49m\u001b[38;5;28;43mself\u001b[39;49m\u001b[43m,\u001b[49m\n\u001b[1;32m    477\u001b[0m \u001b[43m        \u001b[49m\u001b[43mfunc\u001b[49m\u001b[38;5;241;43m=\u001b[39;49m\u001b[43mfunc\u001b[49m\u001b[43m,\u001b[49m\n\u001b[1;32m    478\u001b[0m \u001b[43m        \u001b[49m\u001b[43mn_trials\u001b[49m\u001b[38;5;241;43m=\u001b[39;49m\u001b[43mn_trials\u001b[49m\u001b[43m,\u001b[49m\n\u001b[1;32m    479\u001b[0m \u001b[43m        \u001b[49m\u001b[43mtimeout\u001b[49m\u001b[38;5;241;43m=\u001b[39;49m\u001b[43mtimeout\u001b[49m\u001b[43m,\u001b[49m\n\u001b[1;32m    480\u001b[0m \u001b[43m        \u001b[49m\u001b[43mn_jobs\u001b[49m\u001b[38;5;241;43m=\u001b[39;49m\u001b[43mn_jobs\u001b[49m\u001b[43m,\u001b[49m\n\u001b[1;32m    481\u001b[0m \u001b[43m        \u001b[49m\u001b[43mcatch\u001b[49m\u001b[38;5;241;43m=\u001b[39;49m\u001b[38;5;28;43mtuple\u001b[39;49m\u001b[43m(\u001b[49m\u001b[43mcatch\u001b[49m\u001b[43m)\u001b[49m\u001b[43m \u001b[49m\u001b[38;5;28;43;01mif\u001b[39;49;00m\u001b[43m \u001b[49m\u001b[38;5;28;43misinstance\u001b[39;49m\u001b[43m(\u001b[49m\u001b[43mcatch\u001b[49m\u001b[43m,\u001b[49m\u001b[43m \u001b[49m\u001b[43mIterable\u001b[49m\u001b[43m)\u001b[49m\u001b[43m \u001b[49m\u001b[38;5;28;43;01melse\u001b[39;49;00m\u001b[43m \u001b[49m\u001b[43m(\u001b[49m\u001b[43mcatch\u001b[49m\u001b[43m,\u001b[49m\u001b[43m)\u001b[49m\u001b[43m,\u001b[49m\n\u001b[1;32m    482\u001b[0m \u001b[43m        \u001b[49m\u001b[43mcallbacks\u001b[49m\u001b[38;5;241;43m=\u001b[39;49m\u001b[43mcallbacks\u001b[49m\u001b[43m,\u001b[49m\n\u001b[1;32m    483\u001b[0m \u001b[43m        \u001b[49m\u001b[43mgc_after_trial\u001b[49m\u001b[38;5;241;43m=\u001b[39;49m\u001b[43mgc_after_trial\u001b[49m\u001b[43m,\u001b[49m\n\u001b[1;32m    484\u001b[0m \u001b[43m        \u001b[49m\u001b[43mshow_progress_bar\u001b[49m\u001b[38;5;241;43m=\u001b[39;49m\u001b[43mshow_progress_bar\u001b[49m\u001b[43m,\u001b[49m\n\u001b[1;32m    485\u001b[0m \u001b[43m    \u001b[49m\u001b[43m)\u001b[49m\n",
      "File \u001b[0;32m/opt/conda/lib/python3.11/site-packages/optuna/study/_optimize.py:63\u001b[0m, in \u001b[0;36m_optimize\u001b[0;34m(study, func, n_trials, timeout, n_jobs, catch, callbacks, gc_after_trial, show_progress_bar)\u001b[0m\n\u001b[1;32m     61\u001b[0m \u001b[38;5;28;01mtry\u001b[39;00m:\n\u001b[1;32m     62\u001b[0m     \u001b[38;5;28;01mif\u001b[39;00m n_jobs \u001b[38;5;241m==\u001b[39m \u001b[38;5;241m1\u001b[39m:\n\u001b[0;32m---> 63\u001b[0m         \u001b[43m_optimize_sequential\u001b[49m\u001b[43m(\u001b[49m\n\u001b[1;32m     64\u001b[0m \u001b[43m            \u001b[49m\u001b[43mstudy\u001b[49m\u001b[43m,\u001b[49m\n\u001b[1;32m     65\u001b[0m \u001b[43m            \u001b[49m\u001b[43mfunc\u001b[49m\u001b[43m,\u001b[49m\n\u001b[1;32m     66\u001b[0m \u001b[43m            \u001b[49m\u001b[43mn_trials\u001b[49m\u001b[43m,\u001b[49m\n\u001b[1;32m     67\u001b[0m \u001b[43m            \u001b[49m\u001b[43mtimeout\u001b[49m\u001b[43m,\u001b[49m\n\u001b[1;32m     68\u001b[0m \u001b[43m            \u001b[49m\u001b[43mcatch\u001b[49m\u001b[43m,\u001b[49m\n\u001b[1;32m     69\u001b[0m \u001b[43m            \u001b[49m\u001b[43mcallbacks\u001b[49m\u001b[43m,\u001b[49m\n\u001b[1;32m     70\u001b[0m \u001b[43m            \u001b[49m\u001b[43mgc_after_trial\u001b[49m\u001b[43m,\u001b[49m\n\u001b[1;32m     71\u001b[0m \u001b[43m            \u001b[49m\u001b[43mreseed_sampler_rng\u001b[49m\u001b[38;5;241;43m=\u001b[39;49m\u001b[38;5;28;43;01mFalse\u001b[39;49;00m\u001b[43m,\u001b[49m\n\u001b[1;32m     72\u001b[0m \u001b[43m            \u001b[49m\u001b[43mtime_start\u001b[49m\u001b[38;5;241;43m=\u001b[39;49m\u001b[38;5;28;43;01mNone\u001b[39;49;00m\u001b[43m,\u001b[49m\n\u001b[1;32m     73\u001b[0m \u001b[43m            \u001b[49m\u001b[43mprogress_bar\u001b[49m\u001b[38;5;241;43m=\u001b[39;49m\u001b[43mprogress_bar\u001b[49m\u001b[43m,\u001b[49m\n\u001b[1;32m     74\u001b[0m \u001b[43m        \u001b[49m\u001b[43m)\u001b[49m\n\u001b[1;32m     75\u001b[0m     \u001b[38;5;28;01melse\u001b[39;00m:\n\u001b[1;32m     76\u001b[0m         \u001b[38;5;28;01mif\u001b[39;00m n_jobs \u001b[38;5;241m==\u001b[39m \u001b[38;5;241m-\u001b[39m\u001b[38;5;241m1\u001b[39m:\n",
      "File \u001b[0;32m/opt/conda/lib/python3.11/site-packages/optuna/study/_optimize.py:160\u001b[0m, in \u001b[0;36m_optimize_sequential\u001b[0;34m(study, func, n_trials, timeout, catch, callbacks, gc_after_trial, reseed_sampler_rng, time_start, progress_bar)\u001b[0m\n\u001b[1;32m    157\u001b[0m         \u001b[38;5;28;01mbreak\u001b[39;00m\n\u001b[1;32m    159\u001b[0m \u001b[38;5;28;01mtry\u001b[39;00m:\n\u001b[0;32m--> 160\u001b[0m     frozen_trial \u001b[38;5;241m=\u001b[39m \u001b[43m_run_trial\u001b[49m\u001b[43m(\u001b[49m\u001b[43mstudy\u001b[49m\u001b[43m,\u001b[49m\u001b[43m \u001b[49m\u001b[43mfunc\u001b[49m\u001b[43m,\u001b[49m\u001b[43m \u001b[49m\u001b[43mcatch\u001b[49m\u001b[43m)\u001b[49m\n\u001b[1;32m    161\u001b[0m \u001b[38;5;28;01mfinally\u001b[39;00m:\n\u001b[1;32m    162\u001b[0m     \u001b[38;5;66;03m# The following line mitigates memory problems that can be occurred in some\u001b[39;00m\n\u001b[1;32m    163\u001b[0m     \u001b[38;5;66;03m# environments (e.g., services that use computing containers such as GitHub Actions).\u001b[39;00m\n\u001b[1;32m    164\u001b[0m     \u001b[38;5;66;03m# Please refer to the following PR for further details:\u001b[39;00m\n\u001b[1;32m    165\u001b[0m     \u001b[38;5;66;03m# https://github.com/optuna/optuna/pull/325.\u001b[39;00m\n\u001b[1;32m    166\u001b[0m     \u001b[38;5;28;01mif\u001b[39;00m gc_after_trial:\n",
      "File \u001b[0;32m/opt/conda/lib/python3.11/site-packages/optuna/study/_optimize.py:248\u001b[0m, in \u001b[0;36m_run_trial\u001b[0;34m(study, func, catch)\u001b[0m\n\u001b[1;32m    241\u001b[0m         \u001b[38;5;28;01massert\u001b[39;00m \u001b[38;5;28;01mFalse\u001b[39;00m, \u001b[38;5;124m\"\u001b[39m\u001b[38;5;124mShould not reach.\u001b[39m\u001b[38;5;124m\"\u001b[39m\n\u001b[1;32m    243\u001b[0m \u001b[38;5;28;01mif\u001b[39;00m (\n\u001b[1;32m    244\u001b[0m     frozen_trial\u001b[38;5;241m.\u001b[39mstate \u001b[38;5;241m==\u001b[39m TrialState\u001b[38;5;241m.\u001b[39mFAIL\n\u001b[1;32m    245\u001b[0m     \u001b[38;5;129;01mand\u001b[39;00m func_err \u001b[38;5;129;01mis\u001b[39;00m \u001b[38;5;129;01mnot\u001b[39;00m \u001b[38;5;28;01mNone\u001b[39;00m\n\u001b[1;32m    246\u001b[0m     \u001b[38;5;129;01mand\u001b[39;00m \u001b[38;5;129;01mnot\u001b[39;00m \u001b[38;5;28misinstance\u001b[39m(func_err, catch)\n\u001b[1;32m    247\u001b[0m ):\n\u001b[0;32m--> 248\u001b[0m     \u001b[38;5;28;01mraise\u001b[39;00m func_err\n\u001b[1;32m    249\u001b[0m \u001b[38;5;28;01mreturn\u001b[39;00m frozen_trial\n",
      "File \u001b[0;32m/opt/conda/lib/python3.11/site-packages/optuna/study/_optimize.py:197\u001b[0m, in \u001b[0;36m_run_trial\u001b[0;34m(study, func, catch)\u001b[0m\n\u001b[1;32m    195\u001b[0m \u001b[38;5;28;01mwith\u001b[39;00m get_heartbeat_thread(trial\u001b[38;5;241m.\u001b[39m_trial_id, study\u001b[38;5;241m.\u001b[39m_storage):\n\u001b[1;32m    196\u001b[0m     \u001b[38;5;28;01mtry\u001b[39;00m:\n\u001b[0;32m--> 197\u001b[0m         value_or_values \u001b[38;5;241m=\u001b[39m \u001b[43mfunc\u001b[49m\u001b[43m(\u001b[49m\u001b[43mtrial\u001b[49m\u001b[43m)\u001b[49m\n\u001b[1;32m    198\u001b[0m     \u001b[38;5;28;01mexcept\u001b[39;00m exceptions\u001b[38;5;241m.\u001b[39mTrialPruned \u001b[38;5;28;01mas\u001b[39;00m e:\n\u001b[1;32m    199\u001b[0m         \u001b[38;5;66;03m# TODO(mamu): Handle multi-objective cases.\u001b[39;00m\n\u001b[1;32m    200\u001b[0m         state \u001b[38;5;241m=\u001b[39m TrialState\u001b[38;5;241m.\u001b[39mPRUNED\n",
      "Cell \u001b[0;32mIn[22], line 46\u001b[0m, in \u001b[0;36mobjective\u001b[0;34m(trial)\u001b[0m\n\u001b[1;32m     43\u001b[0m model \u001b[38;5;241m=\u001b[39m CatBoostClassifier(cat_features\u001b[38;5;241m=\u001b[39mcat_features_indices, \u001b[38;5;241m*\u001b[39m\u001b[38;5;241m*\u001b[39mparams)\n\u001b[1;32m     45\u001b[0m \u001b[38;5;66;03m# Fit the model\u001b[39;00m\n\u001b[0;32m---> 46\u001b[0m \u001b[43mmodel\u001b[49m\u001b[38;5;241;43m.\u001b[39;49m\u001b[43mfit\u001b[49m\u001b[43m(\u001b[49m\u001b[43mX_train_fold\u001b[49m\u001b[43m,\u001b[49m\u001b[43m \u001b[49m\u001b[43my_train_fold\u001b[49m\u001b[43m,\u001b[49m\u001b[43m \u001b[49m\u001b[43mverbose\u001b[49m\u001b[38;5;241;43m=\u001b[39;49m\u001b[38;5;28;43;01mFalse\u001b[39;49;00m\u001b[43m)\u001b[49m\n\u001b[1;32m     48\u001b[0m \u001b[38;5;66;03m# Predict and calculate ROC AUC score\u001b[39;00m\n\u001b[1;32m     49\u001b[0m y_pred \u001b[38;5;241m=\u001b[39m model\u001b[38;5;241m.\u001b[39mpredict_proba(X_val)[:, \u001b[38;5;241m1\u001b[39m]  \u001b[38;5;66;03m# Get probabilities for the positive class\u001b[39;00m\n",
      "File \u001b[0;32m/opt/conda/lib/python3.11/site-packages/catboost/core.py:5245\u001b[0m, in \u001b[0;36mCatBoostClassifier.fit\u001b[0;34m(self, X, y, cat_features, text_features, embedding_features, graph, sample_weight, baseline, use_best_model, eval_set, verbose, logging_level, plot, plot_file, column_description, verbose_eval, metric_period, silent, early_stopping_rounds, save_snapshot, snapshot_file, snapshot_interval, init_model, callbacks, log_cout, log_cerr)\u001b[0m\n\u001b[1;32m   5242\u001b[0m \u001b[38;5;28;01mif\u001b[39;00m \u001b[38;5;124m'\u001b[39m\u001b[38;5;124mloss_function\u001b[39m\u001b[38;5;124m'\u001b[39m \u001b[38;5;129;01min\u001b[39;00m params:\n\u001b[1;32m   5243\u001b[0m     CatBoostClassifier\u001b[38;5;241m.\u001b[39m_check_is_compatible_loss(params[\u001b[38;5;124m'\u001b[39m\u001b[38;5;124mloss_function\u001b[39m\u001b[38;5;124m'\u001b[39m])\n\u001b[0;32m-> 5245\u001b[0m \u001b[38;5;28;43mself\u001b[39;49m\u001b[38;5;241;43m.\u001b[39;49m\u001b[43m_fit\u001b[49m\u001b[43m(\u001b[49m\u001b[43mX\u001b[49m\u001b[43m,\u001b[49m\u001b[43m \u001b[49m\u001b[43my\u001b[49m\u001b[43m,\u001b[49m\u001b[43m \u001b[49m\u001b[43mcat_features\u001b[49m\u001b[43m,\u001b[49m\u001b[43m \u001b[49m\u001b[43mtext_features\u001b[49m\u001b[43m,\u001b[49m\u001b[43m \u001b[49m\u001b[43membedding_features\u001b[49m\u001b[43m,\u001b[49m\u001b[43m \u001b[49m\u001b[38;5;28;43;01mNone\u001b[39;49;00m\u001b[43m,\u001b[49m\u001b[43m \u001b[49m\u001b[43mgraph\u001b[49m\u001b[43m,\u001b[49m\u001b[43m \u001b[49m\u001b[43msample_weight\u001b[49m\u001b[43m,\u001b[49m\u001b[43m \u001b[49m\u001b[38;5;28;43;01mNone\u001b[39;49;00m\u001b[43m,\u001b[49m\u001b[43m \u001b[49m\u001b[38;5;28;43;01mNone\u001b[39;49;00m\u001b[43m,\u001b[49m\u001b[43m \u001b[49m\u001b[38;5;28;43;01mNone\u001b[39;49;00m\u001b[43m,\u001b[49m\u001b[43m \u001b[49m\u001b[38;5;28;43;01mNone\u001b[39;49;00m\u001b[43m,\u001b[49m\u001b[43m \u001b[49m\u001b[43mbaseline\u001b[49m\u001b[43m,\u001b[49m\u001b[43m \u001b[49m\u001b[43muse_best_model\u001b[49m\u001b[43m,\u001b[49m\n\u001b[1;32m   5246\u001b[0m \u001b[43m          \u001b[49m\u001b[43meval_set\u001b[49m\u001b[43m,\u001b[49m\u001b[43m \u001b[49m\u001b[43mverbose\u001b[49m\u001b[43m,\u001b[49m\u001b[43m \u001b[49m\u001b[43mlogging_level\u001b[49m\u001b[43m,\u001b[49m\u001b[43m \u001b[49m\u001b[43mplot\u001b[49m\u001b[43m,\u001b[49m\u001b[43m \u001b[49m\u001b[43mplot_file\u001b[49m\u001b[43m,\u001b[49m\u001b[43m \u001b[49m\u001b[43mcolumn_description\u001b[49m\u001b[43m,\u001b[49m\u001b[43m \u001b[49m\u001b[43mverbose_eval\u001b[49m\u001b[43m,\u001b[49m\u001b[43m \u001b[49m\u001b[43mmetric_period\u001b[49m\u001b[43m,\u001b[49m\n\u001b[1;32m   5247\u001b[0m \u001b[43m          \u001b[49m\u001b[43msilent\u001b[49m\u001b[43m,\u001b[49m\u001b[43m \u001b[49m\u001b[43mearly_stopping_rounds\u001b[49m\u001b[43m,\u001b[49m\u001b[43m \u001b[49m\u001b[43msave_snapshot\u001b[49m\u001b[43m,\u001b[49m\u001b[43m \u001b[49m\u001b[43msnapshot_file\u001b[49m\u001b[43m,\u001b[49m\u001b[43m \u001b[49m\u001b[43msnapshot_interval\u001b[49m\u001b[43m,\u001b[49m\u001b[43m \u001b[49m\u001b[43minit_model\u001b[49m\u001b[43m,\u001b[49m\u001b[43m \u001b[49m\u001b[43mcallbacks\u001b[49m\u001b[43m,\u001b[49m\u001b[43m \u001b[49m\u001b[43mlog_cout\u001b[49m\u001b[43m,\u001b[49m\u001b[43m \u001b[49m\u001b[43mlog_cerr\u001b[49m\u001b[43m)\u001b[49m\n\u001b[1;32m   5248\u001b[0m \u001b[38;5;28;01mreturn\u001b[39;00m \u001b[38;5;28mself\u001b[39m\n",
      "File \u001b[0;32m/opt/conda/lib/python3.11/site-packages/catboost/core.py:2410\u001b[0m, in \u001b[0;36mCatBoost._fit\u001b[0;34m(self, X, y, cat_features, text_features, embedding_features, pairs, graph, sample_weight, group_id, group_weight, subgroup_id, pairs_weight, baseline, use_best_model, eval_set, verbose, logging_level, plot, plot_file, column_description, verbose_eval, metric_period, silent, early_stopping_rounds, save_snapshot, snapshot_file, snapshot_interval, init_model, callbacks, log_cout, log_cerr)\u001b[0m\n\u001b[1;32m   2407\u001b[0m allow_clear_pool \u001b[38;5;241m=\u001b[39m train_params[\u001b[38;5;124m\"\u001b[39m\u001b[38;5;124mallow_clear_pool\u001b[39m\u001b[38;5;124m\"\u001b[39m]\n\u001b[1;32m   2409\u001b[0m \u001b[38;5;28;01mwith\u001b[39;00m plot_wrapper(plot, plot_file, \u001b[38;5;124m'\u001b[39m\u001b[38;5;124mTraining plots\u001b[39m\u001b[38;5;124m'\u001b[39m, [_get_train_dir(\u001b[38;5;28mself\u001b[39m\u001b[38;5;241m.\u001b[39mget_params())]):\n\u001b[0;32m-> 2410\u001b[0m     \u001b[38;5;28;43mself\u001b[39;49m\u001b[38;5;241;43m.\u001b[39;49m\u001b[43m_train\u001b[49m\u001b[43m(\u001b[49m\n\u001b[1;32m   2411\u001b[0m \u001b[43m        \u001b[49m\u001b[43mtrain_pool\u001b[49m\u001b[43m,\u001b[49m\n\u001b[1;32m   2412\u001b[0m \u001b[43m        \u001b[49m\u001b[43mtrain_params\u001b[49m\u001b[43m[\u001b[49m\u001b[38;5;124;43m\"\u001b[39;49m\u001b[38;5;124;43meval_sets\u001b[39;49m\u001b[38;5;124;43m\"\u001b[39;49m\u001b[43m]\u001b[49m\u001b[43m,\u001b[49m\n\u001b[1;32m   2413\u001b[0m \u001b[43m        \u001b[49m\u001b[43mparams\u001b[49m\u001b[43m,\u001b[49m\n\u001b[1;32m   2414\u001b[0m \u001b[43m        \u001b[49m\u001b[43mallow_clear_pool\u001b[49m\u001b[43m,\u001b[49m\n\u001b[1;32m   2415\u001b[0m \u001b[43m        \u001b[49m\u001b[43mtrain_params\u001b[49m\u001b[43m[\u001b[49m\u001b[38;5;124;43m\"\u001b[39;49m\u001b[38;5;124;43minit_model\u001b[39;49m\u001b[38;5;124;43m\"\u001b[39;49m\u001b[43m]\u001b[49m\n\u001b[1;32m   2416\u001b[0m \u001b[43m    \u001b[49m\u001b[43m)\u001b[49m\n\u001b[1;32m   2418\u001b[0m \u001b[38;5;66;03m# Have property feature_importance possibly set\u001b[39;00m\n\u001b[1;32m   2419\u001b[0m loss \u001b[38;5;241m=\u001b[39m \u001b[38;5;28mself\u001b[39m\u001b[38;5;241m.\u001b[39m_object\u001b[38;5;241m.\u001b[39m_get_loss_function_name()\n",
      "File \u001b[0;32m/opt/conda/lib/python3.11/site-packages/catboost/core.py:1790\u001b[0m, in \u001b[0;36m_CatBoostBase._train\u001b[0;34m(self, train_pool, test_pool, params, allow_clear_pool, init_model)\u001b[0m\n\u001b[1;32m   1789\u001b[0m \u001b[38;5;28;01mdef\u001b[39;00m \u001b[38;5;21m_train\u001b[39m(\u001b[38;5;28mself\u001b[39m, train_pool, test_pool, params, allow_clear_pool, init_model):\n\u001b[0;32m-> 1790\u001b[0m     \u001b[38;5;28;43mself\u001b[39;49m\u001b[38;5;241;43m.\u001b[39;49m\u001b[43m_object\u001b[49m\u001b[38;5;241;43m.\u001b[39;49m\u001b[43m_train\u001b[49m\u001b[43m(\u001b[49m\u001b[43mtrain_pool\u001b[49m\u001b[43m,\u001b[49m\u001b[43m \u001b[49m\u001b[43mtest_pool\u001b[49m\u001b[43m,\u001b[49m\u001b[43m \u001b[49m\u001b[43mparams\u001b[49m\u001b[43m,\u001b[49m\u001b[43m \u001b[49m\u001b[43mallow_clear_pool\u001b[49m\u001b[43m,\u001b[49m\u001b[43m \u001b[49m\u001b[43minit_model\u001b[49m\u001b[38;5;241;43m.\u001b[39;49m\u001b[43m_object\u001b[49m\u001b[43m \u001b[49m\u001b[38;5;28;43;01mif\u001b[39;49;00m\u001b[43m \u001b[49m\u001b[43minit_model\u001b[49m\u001b[43m \u001b[49m\u001b[38;5;28;43;01melse\u001b[39;49;00m\u001b[43m \u001b[49m\u001b[38;5;28;43;01mNone\u001b[39;49;00m\u001b[43m)\u001b[49m\n\u001b[1;32m   1791\u001b[0m     \u001b[38;5;28mself\u001b[39m\u001b[38;5;241m.\u001b[39m_set_trained_model_attributes()\n",
      "File \u001b[0;32m_catboost.pyx:5017\u001b[0m, in \u001b[0;36m_catboost._CatBoost._train\u001b[0;34m()\u001b[0m\n",
      "File \u001b[0;32m_catboost.pyx:5066\u001b[0m, in \u001b[0;36m_catboost._CatBoost._train\u001b[0;34m()\u001b[0m\n",
      "\u001b[0;31mKeyboardInterrupt\u001b[0m: "
     ]
    }
   ],
   "source": [
    "import optuna\n",
    "import numpy as np\n",
    "from catboost import CatBoostClassifier\n",
    "from sklearn.model_selection import StratifiedKFold\n",
    "from sklearn.metrics import roc_auc_score\n",
    "from sklearn.model_selection import train_test_split\n",
    "\n",
    "# Assuming X and y are defined and represent your features and target\n",
    "X_train, X_test, y_train, y_test = train_test_split(X, y, test_size=0.2, random_state=42)\n",
    "\n",
    "# Identify categorical features by column index or names\n",
    "cat_features_indices = [3,5,6,10]  # Example indices of categorical features; update as needed\n",
    "# OR\n",
    "# cat_features = ['feature_name1', 'feature_name2']  # List of categorical feature names\n",
    "\n",
    "# Define the Optuna objective function\n",
    "def objective(trial):\n",
    "    # Hyperparameters to tune\n",
    "    params = {\n",
    "        \"iterations\": trial.suggest_int(\"iterations\", 100, 2000),  # Increased upper limit\n",
    "        \"learning_rate\": trial.suggest_float(\"learning_rate\", 0.01, 0.15, log=True),  # Lower bound added\n",
    "        \"depth\": trial.suggest_int(\"depth\", 2, 3),  # Wider range for depth\n",
    "        \"l2_leaf_reg\": trial.suggest_float(\"l2_leaf_reg\", 7, 10),  # Increased upper limit\n",
    "        \"random_strength\": trial.suggest_float(\"random_strength\", 1, 1.4),  # Increased upper limit\n",
    "        \"od_type\": trial.suggest_categorical(\"od_type\", [\"IncToDec\"]),\n",
    "        \"od_wait\": trial.suggest_int(\"od_wait\", 50, 80),  # Increased upper limit\n",
    "        \"bootstrap_type\": trial.suggest_categorical(\"bootstrap_type\", [\"Bernoulli\"]),\n",
    "        \"task_type\": 'CPU',\n",
    "        \"verbose\": False\n",
    "    }\n",
    "\n",
    "    # Initialize StratifiedKFold\n",
    "    skf = StratifiedKFold(n_splits=10, shuffle=True, random_state=42)\n",
    "    roc_auc_scores = []\n",
    "\n",
    "    # Perform k-fold cross-validation\n",
    "    for train_index, val_index in skf.split(X_train, y_train):\n",
    "        X_train_fold = X_train.iloc[train_index]  # Use iloc for indexing\n",
    "        X_val = X_train.iloc[val_index]  # Use iloc for indexing\n",
    "        y_train_fold = y_train.iloc[train_index]  # Use iloc for indexing\n",
    "        y_val = y_train.iloc[val_index]  # Use iloc for indexing\n",
    "\n",
    "        model = CatBoostClassifier(cat_features=cat_features_indices, **params)\n",
    "\n",
    "        # Fit the model\n",
    "        model.fit(X_train_fold, y_train_fold, verbose=False)\n",
    "\n",
    "        # Predict and calculate ROC AUC score\n",
    "        y_pred = model.predict_proba(X_val)[:, 1]  # Get probabilities for the positive class\n",
    "        roc = roc_auc_score(y_val, y_pred)  # Calculate ROC AUC score\n",
    "        roc_auc_scores.append(roc)\n",
    "\n",
    "    # Return the mean ROC AUC score across folds\n",
    "    return np.mean(roc_auc_scores)\n",
    "\n",
    "# Create a study and optimize the objective function\n",
    "study = optuna.create_study(direction=\"maximize\")\n",
    "study.optimize(objective, n_trials=100)\n",
    "\n",
    "print(\"Best parameters:\", study.best_params)\n",
    "print(\"Best ROC AUC:\", study.best_value)\n",
    "\n",
    "# Fit the final model with the best parameters\n",
    "best_params = study.best_params\n",
    "best_params['verbose'] = 200  # Adjust verbosity\n",
    "\n",
    "# Fit the model with the best parameters\n",
    "model = CatBoostClassifier(cat_features=cat_features_indices, **best_params)\n",
    "model.fit(X_train, y_train)  # Fit with the best parameters"
   ]
  },
  {
   "cell_type": "code",
   "execution_count": 16,
   "id": "8c235be0-adf9-4485-8aff-5b4226877d91",
   "metadata": {},
   "outputs": [],
   "source": [
    "X_ = data_test.copy()\n",
    "y_ = model.predict(X_)\n",
    "solution = {}\n",
    "solution['id'] = X_['id']\n",
    "solution['loan_status'] = y_"
   ]
  },
  {
   "cell_type": "code",
   "execution_count": 19,
   "id": "85a4e050-f2d1-4dc0-9111-7e90c4a99402",
   "metadata": {},
   "outputs": [],
   "source": [
    "df = pd.DataFrame(solution)\n",
    "df.to_csv('solution', index = False)"
   ]
  },
  {
   "cell_type": "code",
   "execution_count": null,
   "id": "5df79cdd-15f8-44de-bcc2-13ed183d98bb",
   "metadata": {},
   "outputs": [],
   "source": []
  }
 ],
 "metadata": {
  "kernelspec": {
   "display_name": "Python 3 (ipykernel)",
   "language": "python",
   "name": "python3"
  },
  "language_info": {
   "codemirror_mode": {
    "name": "ipython",
    "version": 3
   },
   "file_extension": ".py",
   "mimetype": "text/x-python",
   "name": "python",
   "nbconvert_exporter": "python",
   "pygments_lexer": "ipython3",
   "version": "3.11.6"
  }
 },
 "nbformat": 4,
 "nbformat_minor": 5
}
